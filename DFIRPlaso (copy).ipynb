{
 "cells": [
  {
   "cell_type": "code",
   "execution_count": 1,
   "id": "67d626aa-bb04-4e59-bd45-0a387105fe2d",
   "metadata": {},
   "outputs": [
    {
     "name": "stdout",
     "output_type": "stream",
     "text": [
      "Defaulting to user installation because normal site-packages is not writeable\n",
      "Requirement already satisfied: absl-py==1.4.0 in /home/dfir/.local/lib/python3.10/site-packages (from -r /home/dfir/Downloads/ds4n6_lib/requirements.txt (line 1)) (1.4.0)\n",
      "Requirement already satisfied: argon2-cffi==21.3.0 in /home/dfir/.local/lib/python3.10/site-packages (from -r /home/dfir/Downloads/ds4n6_lib/requirements.txt (line 2)) (21.3.0)\n",
      "Requirement already satisfied: astunparse==1.6.3 in /home/dfir/.local/lib/python3.10/site-packages (from -r /home/dfir/Downloads/ds4n6_lib/requirements.txt (line 3)) (1.6.3)\n",
      "Requirement already satisfied: async-generator==1.10 in /home/dfir/.local/lib/python3.10/site-packages (from -r /home/dfir/Downloads/ds4n6_lib/requirements.txt (line 4)) (1.10)\n",
      "Requirement already satisfied: attrs==22.2.0 in /home/dfir/.local/lib/python3.10/site-packages (from -r /home/dfir/Downloads/ds4n6_lib/requirements.txt (line 5)) (22.2.0)\n",
      "Requirement already satisfied: backcall==0.2.0 in /home/dfir/.local/lib/python3.10/site-packages (from -r /home/dfir/Downloads/ds4n6_lib/requirements.txt (line 6)) (0.2.0)\n",
      "Requirement already satisfied: bleach==4.1.0 in /home/dfir/.local/lib/python3.10/site-packages (from -r /home/dfir/Downloads/ds4n6_lib/requirements.txt (line 7)) (4.1.0)\n",
      "Requirement already satisfied: cachetools==4.2.4 in /home/dfir/.local/lib/python3.10/site-packages (from -r /home/dfir/Downloads/ds4n6_lib/requirements.txt (line 8)) (4.2.4)\n",
      "Requirement already satisfied: certifi==2022.6.15 in /home/dfir/.local/lib/python3.10/site-packages (from -r /home/dfir/Downloads/ds4n6_lib/requirements.txt (line 9)) (2022.6.15)\n",
      "Requirement already satisfied: cffi==1.15.1 in /home/dfir/.local/lib/python3.10/site-packages (from -r /home/dfir/Downloads/ds4n6_lib/requirements.txt (line 10)) (1.15.1)\n",
      "Requirement already satisfied: chardet==4.0.0 in /usr/lib/python3/dist-packages (from -r /home/dfir/Downloads/ds4n6_lib/requirements.txt (line 11)) (4.0.0)\n",
      "Requirement already satisfied: configparser==4.0.2 in /home/dfir/.local/lib/python3.10/site-packages (from -r /home/dfir/Downloads/ds4n6_lib/requirements.txt (line 12)) (4.0.2)\n",
      "Requirement already satisfied: cycler==0.11.0 in /home/dfir/.local/lib/python3.10/site-packages (from -r /home/dfir/Downloads/ds4n6_lib/requirements.txt (line 13)) (0.11.0)\n",
      "Requirement already satisfied: decorator==5.1.1 in /home/dfir/.local/lib/python3.10/site-packages (from -r /home/dfir/Downloads/ds4n6_lib/requirements.txt (line 14)) (5.1.1)\n",
      "Requirement already satisfied: defusedxml==0.7.1 in /usr/local/lib/python3.10/dist-packages (from -r /home/dfir/Downloads/ds4n6_lib/requirements.txt (line 15)) (0.7.1)\n",
      "Requirement already satisfied: entrypoints==0.3 in /home/dfir/.local/lib/python3.10/site-packages (from -r /home/dfir/Downloads/ds4n6_lib/requirements.txt (line 16)) (0.3)\n",
      "Requirement already satisfied: evtx==0.8.4 in /home/dfir/.local/lib/python3.10/site-packages (from -r /home/dfir/Downloads/ds4n6_lib/requirements.txt (line 17)) (0.8.4)\n",
      "Requirement already satisfied: flatbuffers==1.12 in /home/dfir/.local/lib/python3.10/site-packages (from -r /home/dfir/Downloads/ds4n6_lib/requirements.txt (line 18)) (1.12)\n",
      "Requirement already satisfied: gast==0.4.0 in /home/dfir/.local/lib/python3.10/site-packages (from -r /home/dfir/Downloads/ds4n6_lib/requirements.txt (line 19)) (0.4.0)\n",
      "Requirement already satisfied: gensim==4.1.2 in /home/dfir/.local/lib/python3.10/site-packages (from -r /home/dfir/Downloads/ds4n6_lib/requirements.txt (line 20)) (4.1.2)\n",
      "Requirement already satisfied: google-auth==2.6.0 in /home/dfir/.local/lib/python3.10/site-packages (from -r /home/dfir/Downloads/ds4n6_lib/requirements.txt (line 21)) (2.6.0)\n",
      "Requirement already satisfied: google-auth-oauthlib==0.4.6 in /home/dfir/.local/lib/python3.10/site-packages (from -r /home/dfir/Downloads/ds4n6_lib/requirements.txt (line 22)) (0.4.6)\n",
      "Requirement already satisfied: google-pasta==0.2.0 in /home/dfir/.local/lib/python3.10/site-packages (from -r /home/dfir/Downloads/ds4n6_lib/requirements.txt (line 23)) (0.2.0)\n",
      "Requirement already satisfied: grpcio==1.46.3 in /home/dfir/.local/lib/python3.10/site-packages (from -r /home/dfir/Downloads/ds4n6_lib/requirements.txt (line 24)) (1.46.3)\n",
      "Requirement already satisfied: h5py==3.6.0 in /home/dfir/.local/lib/python3.10/site-packages (from -r /home/dfir/Downloads/ds4n6_lib/requirements.txt (line 25)) (3.6.0)\n",
      "Requirement already satisfied: hexdump==3.3 in /home/dfir/.local/lib/python3.10/site-packages (from -r /home/dfir/Downloads/ds4n6_lib/requirements.txt (line 26)) (3.3)\n",
      "Requirement already satisfied: idna==3.3 in /home/dfir/.local/lib/python3.10/site-packages (from -r /home/dfir/Downloads/ds4n6_lib/requirements.txt (line 27)) (3.3)\n",
      "Requirement already satisfied: importlib-metadata==4.11.4 in /home/dfir/.local/lib/python3.10/site-packages (from -r /home/dfir/Downloads/ds4n6_lib/requirements.txt (line 28)) (4.11.4)\n",
      "Requirement already satisfied: ipyaggrid==0.2.1 in /home/dfir/.local/lib/python3.10/site-packages (from -r /home/dfir/Downloads/ds4n6_lib/requirements.txt (line 29)) (0.2.1)\n",
      "Requirement already satisfied: ipykernel==6.14.0 in /home/dfir/.local/lib/python3.10/site-packages (from -r /home/dfir/Downloads/ds4n6_lib/requirements.txt (line 30)) (6.14.0)\n",
      "Requirement already satisfied: ipython==7.31.1 in /home/dfir/.local/lib/python3.10/site-packages (from -r /home/dfir/Downloads/ds4n6_lib/requirements.txt (line 31)) (7.31.1)\n",
      "Requirement already satisfied: ipython-genutils==0.2.0 in /home/dfir/.local/lib/python3.10/site-packages (from -r /home/dfir/Downloads/ds4n6_lib/requirements.txt (line 32)) (0.2.0)\n",
      "Requirement already satisfied: ipywidgets==7.7.2 in /home/dfir/.local/lib/python3.10/site-packages (from -r /home/dfir/Downloads/ds4n6_lib/requirements.txt (line 33)) (7.7.2)\n",
      "Requirement already satisfied: jedi==0.18.1 in /home/dfir/.local/lib/python3.10/site-packages (from -r /home/dfir/Downloads/ds4n6_lib/requirements.txt (line 34)) (0.18.1)\n",
      "Requirement already satisfied: Jinja2==3.1.2 in /home/dfir/.local/lib/python3.10/site-packages (from -r /home/dfir/Downloads/ds4n6_lib/requirements.txt (line 35)) (3.1.2)\n",
      "Requirement already satisfied: joblib==1.1.0 in /home/dfir/.local/lib/python3.10/site-packages (from -r /home/dfir/Downloads/ds4n6_lib/requirements.txt (line 36)) (1.1.0)\n",
      "Requirement already satisfied: jsonschema==4.18.0 in /home/dfir/.local/lib/python3.10/site-packages (from -r /home/dfir/Downloads/ds4n6_lib/requirements.txt (line 37)) (4.18.0)\n",
      "Requirement already satisfied: jupyter-client==7.4.4 in /home/dfir/.local/lib/python3.10/site-packages (from -r /home/dfir/Downloads/ds4n6_lib/requirements.txt (line 38)) (7.4.4)\n",
      "Requirement already satisfied: jupyter-core==4.12.0 in /home/dfir/.local/lib/python3.10/site-packages (from -r /home/dfir/Downloads/ds4n6_lib/requirements.txt (line 39)) (4.12.0)\n",
      "Requirement already satisfied: jupyterlab-pygments==0.2.2 in /home/dfir/.local/lib/python3.10/site-packages (from -r /home/dfir/Downloads/ds4n6_lib/requirements.txt (line 40)) (0.2.2)\n",
      "Requirement already satisfied: jupyterlab-widgets==1.1.1 in /home/dfir/.local/lib/python3.10/site-packages (from -r /home/dfir/Downloads/ds4n6_lib/requirements.txt (line 41)) (1.1.1)\n",
      "Requirement already satisfied: Keras==2.9.0 in /home/dfir/.local/lib/python3.10/site-packages (from -r /home/dfir/Downloads/ds4n6_lib/requirements.txt (line 42)) (2.9.0)\n",
      "Requirement already satisfied: Keras-Preprocessing==1.1.2 in /home/dfir/.local/lib/python3.10/site-packages (from -r /home/dfir/Downloads/ds4n6_lib/requirements.txt (line 43)) (1.1.2)\n",
      "Requirement already satisfied: kiwisolver==1.4.4 in /home/dfir/.local/lib/python3.10/site-packages (from -r /home/dfir/Downloads/ds4n6_lib/requirements.txt (line 44)) (1.4.4)\n",
      "Requirement already satisfied: Markdown==3.4.1 in /home/dfir/.local/lib/python3.10/site-packages (from -r /home/dfir/Downloads/ds4n6_lib/requirements.txt (line 45)) (3.4.1)\n",
      "Requirement already satisfied: MarkupSafe==2.1.1 in /home/dfir/.local/lib/python3.10/site-packages (from -r /home/dfir/Downloads/ds4n6_lib/requirements.txt (line 46)) (2.1.1)\n",
      "Requirement already satisfied: matplotlib==3.5.2 in /home/dfir/.local/lib/python3.10/site-packages (from -r /home/dfir/Downloads/ds4n6_lib/requirements.txt (line 47)) (3.5.2)\n",
      "Requirement already satisfied: mistune==0.8.4 in /home/dfir/.local/lib/python3.10/site-packages (from -r /home/dfir/Downloads/ds4n6_lib/requirements.txt (line 48)) (0.8.4)\n",
      "Requirement already satisfied: more-itertools==5.0.0 in /home/dfir/.local/lib/python3.10/site-packages (from -r /home/dfir/Downloads/ds4n6_lib/requirements.txt (line 49)) (5.0.0)\n",
      "Requirement already satisfied: nbclient==0.5.13 in /home/dfir/.local/lib/python3.10/site-packages (from -r /home/dfir/Downloads/ds4n6_lib/requirements.txt (line 50)) (0.5.13)\n",
      "Requirement already satisfied: nbconvert==6.5.3 in /home/dfir/.local/lib/python3.10/site-packages (from -r /home/dfir/Downloads/ds4n6_lib/requirements.txt (line 51)) (6.5.3)\n",
      "Requirement already satisfied: nbformat==5.4.0 in /home/dfir/.local/lib/python3.10/site-packages (from -r /home/dfir/Downloads/ds4n6_lib/requirements.txt (line 52)) (5.4.0)\n",
      "Requirement already satisfied: nest-asyncio==1.5.5 in /home/dfir/.local/lib/python3.10/site-packages (from -r /home/dfir/Downloads/ds4n6_lib/requirements.txt (line 53)) (1.5.5)\n",
      "Requirement already satisfied: networkx==2.8.4 in /home/dfir/.local/lib/python3.10/site-packages (from -r /home/dfir/Downloads/ds4n6_lib/requirements.txt (line 54)) (2.8.4)\n",
      "Requirement already satisfied: notebook==6.4.12 in /home/dfir/.local/lib/python3.10/site-packages (from -r /home/dfir/Downloads/ds4n6_lib/requirements.txt (line 55)) (6.4.12)\n",
      "Requirement already satisfied: numpy<2.0.0,>=1.23.5 in /home/dfir/.local/lib/python3.10/site-packages (from -r /home/dfir/Downloads/ds4n6_lib/requirements.txt (line 56)) (1.24.4)\n",
      "Requirement already satisfied: oauthlib==3.2.0 in /home/dfir/.local/lib/python3.10/site-packages (from -r /home/dfir/Downloads/ds4n6_lib/requirements.txt (line 57)) (3.2.0)\n",
      "Requirement already satisfied: opt-einsum==3.3.0 in /home/dfir/.local/lib/python3.10/site-packages (from -r /home/dfir/Downloads/ds4n6_lib/requirements.txt (line 58)) (3.3.0)\n",
      "Requirement already satisfied: packaging==22.0 in /home/dfir/.local/lib/python3.10/site-packages (from -r /home/dfir/Downloads/ds4n6_lib/requirements.txt (line 59)) (22.0)\n",
      "Requirement already satisfied: pandas==1.4.3 in /home/dfir/.local/lib/python3.10/site-packages (from -r /home/dfir/Downloads/ds4n6_lib/requirements.txt (line 60)) (1.4.3)\n",
      "Requirement already satisfied: pandocfilters==1.5.0 in /home/dfir/.local/lib/python3.10/site-packages (from -r /home/dfir/Downloads/ds4n6_lib/requirements.txt (line 61)) (1.5.0)\n",
      "Requirement already satisfied: parso==0.8.3 in /home/dfir/.local/lib/python3.10/site-packages (from -r /home/dfir/Downloads/ds4n6_lib/requirements.txt (line 62)) (0.8.3)\n",
      "Requirement already satisfied: pexpect==4.8.0 in /usr/lib/python3/dist-packages (from -r /home/dfir/Downloads/ds4n6_lib/requirements.txt (line 63)) (4.8.0)\n",
      "Requirement already satisfied: pickleshare==0.7.5 in /home/dfir/.local/lib/python3.10/site-packages (from -r /home/dfir/Downloads/ds4n6_lib/requirements.txt (line 64)) (0.7.5)\n",
      "Requirement already satisfied: Pillow==9.1.1 in /home/dfir/.local/lib/python3.10/site-packages (from -r /home/dfir/Downloads/ds4n6_lib/requirements.txt (line 65)) (9.1.1)\n",
      "Requirement already satisfied: prometheus-client==0.14.1 in /home/dfir/.local/lib/python3.10/site-packages (from -r /home/dfir/Downloads/ds4n6_lib/requirements.txt (line 66)) (0.14.1)\n",
      "Requirement already satisfied: prompt-toolkit==3.0.30 in /home/dfir/.local/lib/python3.10/site-packages (from -r /home/dfir/Downloads/ds4n6_lib/requirements.txt (line 67)) (3.0.30)\n",
      "Requirement already satisfied: protobuf==3.19.4 in /home/dfir/.local/lib/python3.10/site-packages (from -r /home/dfir/Downloads/ds4n6_lib/requirements.txt (line 68)) (3.19.4)\n",
      "Requirement already satisfied: ptyprocess==0.7.0 in /usr/lib/python3/dist-packages (from -r /home/dfir/Downloads/ds4n6_lib/requirements.txt (line 69)) (0.7.0)\n",
      "Requirement already satisfied: pyasn1==0.4.8 in /home/dfir/.local/lib/python3.10/site-packages (from -r /home/dfir/Downloads/ds4n6_lib/requirements.txt (line 70)) (0.4.8)\n",
      "Requirement already satisfied: pyasn1-modules==0.2.8 in /home/dfir/.local/lib/python3.10/site-packages (from -r /home/dfir/Downloads/ds4n6_lib/requirements.txt (line 71)) (0.2.8)\n",
      "Requirement already satisfied: pycparser==2.21 in /home/dfir/.local/lib/python3.10/site-packages (from -r /home/dfir/Downloads/ds4n6_lib/requirements.txt (line 72)) (2.21)\n",
      "Requirement already satisfied: Pygments==2.12.0 in /home/dfir/.local/lib/python3.10/site-packages (from -r /home/dfir/Downloads/ds4n6_lib/requirements.txt (line 73)) (2.12.0)\n",
      "Requirement already satisfied: pyparsing==2.4.7 in /home/dfir/.local/lib/python3.10/site-packages (from -r /home/dfir/Downloads/ds4n6_lib/requirements.txt (line 74)) (2.4.7)\n",
      "Requirement already satisfied: pyrsistent==0.18.1 in /home/dfir/.local/lib/python3.10/site-packages (from -r /home/dfir/Downloads/ds4n6_lib/requirements.txt (line 75)) (0.18.1)\n",
      "Requirement already satisfied: python-dateutil==2.8.2 in /home/dfir/.local/lib/python3.10/site-packages (from -r /home/dfir/Downloads/ds4n6_lib/requirements.txt (line 76)) (2.8.2)\n",
      "Requirement already satisfied: python-evtx==0.7.4 in /home/dfir/.local/lib/python3.10/site-packages (from -r /home/dfir/Downloads/ds4n6_lib/requirements.txt (line 77)) (0.7.4)\n",
      "Requirement already satisfied: pytz==2022.1 in /home/dfir/.local/lib/python3.10/site-packages (from -r /home/dfir/Downloads/ds4n6_lib/requirements.txt (line 78)) (2022.1)\n",
      "Requirement already satisfied: PyYAML==6.0 in /home/dfir/.local/lib/python3.10/site-packages (from -r /home/dfir/Downloads/ds4n6_lib/requirements.txt (line 79)) (6.0)\n",
      "Requirement already satisfied: pyzmq==24.0.0 in /home/dfir/.local/lib/python3.10/site-packages (from -r /home/dfir/Downloads/ds4n6_lib/requirements.txt (line 80)) (24.0.0)\n",
      "Requirement already satisfied: qgrid==1.3.1 in /home/dfir/.local/lib/python3.10/site-packages (from -r /home/dfir/Downloads/ds4n6_lib/requirements.txt (line 81)) (1.3.1)\n",
      "Requirement already satisfied: requests==2.31.0 in /home/dfir/.local/lib/python3.10/site-packages (from -r /home/dfir/Downloads/ds4n6_lib/requirements.txt (line 82)) (2.31.0)\n",
      "Requirement already satisfied: requests-oauthlib==1.3.1 in /home/dfir/.local/lib/python3.10/site-packages (from -r /home/dfir/Downloads/ds4n6_lib/requirements.txt (line 83)) (1.3.1)\n",
      "Requirement already satisfied: rsa==4.8 in /home/dfir/.local/lib/python3.10/site-packages (from -r /home/dfir/Downloads/ds4n6_lib/requirements.txt (line 84)) (4.8)\n",
      "Requirement already satisfied: ruamel.yaml==0.17.21 in /home/dfir/.local/lib/python3.10/site-packages (from -r /home/dfir/Downloads/ds4n6_lib/requirements.txt (line 85)) (0.17.21)\n",
      "Requirement already satisfied: ruamel.yaml.clib==0.2.6 in /home/dfir/.local/lib/python3.10/site-packages (from -r /home/dfir/Downloads/ds4n6_lib/requirements.txt (line 86)) (0.2.6)\n",
      "Requirement already satisfied: scikit-learn==1.1.1 in /home/dfir/.local/lib/python3.10/site-packages (from -r /home/dfir/Downloads/ds4n6_lib/requirements.txt (line 87)) (1.1.1)\n",
      "Requirement already satisfied: scipy==1.8.1 in /home/dfir/.local/lib/python3.10/site-packages (from -r /home/dfir/Downloads/ds4n6_lib/requirements.txt (line 88)) (1.8.1)\n",
      "Requirement already satisfied: Send2Trash==1.8.2 in /home/dfir/.local/lib/python3.10/site-packages (from -r /home/dfir/Downloads/ds4n6_lib/requirements.txt (line 89)) (1.8.2)\n",
      "Requirement already satisfied: simplejson==3.17.6 in /home/dfir/.local/lib/python3.10/site-packages (from -r /home/dfir/Downloads/ds4n6_lib/requirements.txt (line 90)) (3.17.6)\n",
      "Requirement already satisfied: six==1.16.0 in /home/dfir/.local/lib/python3.10/site-packages (from -r /home/dfir/Downloads/ds4n6_lib/requirements.txt (line 91)) (1.16.0)\n",
      "Requirement already satisfied: sklearn==0.0 in /home/dfir/.local/lib/python3.10/site-packages (from -r /home/dfir/Downloads/ds4n6_lib/requirements.txt (line 92)) (0.0)\n",
      "Requirement already satisfied: tensorboard==2.9.1 in /home/dfir/.local/lib/python3.10/site-packages (from -r /home/dfir/Downloads/ds4n6_lib/requirements.txt (line 93)) (2.9.1)\n",
      "Requirement already satisfied: tensorboard-plugin-wit==1.8.1 in /home/dfir/.local/lib/python3.10/site-packages (from -r /home/dfir/Downloads/ds4n6_lib/requirements.txt (line 94)) (1.8.1)\n",
      "Requirement already satisfied: tensorflow==2.9.1 in /home/dfir/.local/lib/python3.10/site-packages (from -r /home/dfir/Downloads/ds4n6_lib/requirements.txt (line 95)) (2.9.1)\n",
      "Requirement already satisfied: tensorflow-estimator==2.9.0 in /home/dfir/.local/lib/python3.10/site-packages (from -r /home/dfir/Downloads/ds4n6_lib/requirements.txt (line 96)) (2.9.0)\n",
      "Requirement already satisfied: termcolor==1.1.0 in /home/dfir/.local/lib/python3.10/site-packages (from -r /home/dfir/Downloads/ds4n6_lib/requirements.txt (line 97)) (1.1.0)\n",
      "Requirement already satisfied: terminado==0.13.1 in /home/dfir/.local/lib/python3.10/site-packages (from -r /home/dfir/Downloads/ds4n6_lib/requirements.txt (line 98)) (0.13.1)\n",
      "Requirement already satisfied: testpath==0.6.0 in /home/dfir/.local/lib/python3.10/site-packages (from -r /home/dfir/Downloads/ds4n6_lib/requirements.txt (line 99)) (0.6.0)\n",
      "Requirement already satisfied: threadpoolctl==3.1.0 in /home/dfir/.local/lib/python3.10/site-packages (from -r /home/dfir/Downloads/ds4n6_lib/requirements.txt (line 100)) (3.1.0)\n",
      "Requirement already satisfied: tornado==6.2 in /home/dfir/.local/lib/python3.10/site-packages (from -r /home/dfir/Downloads/ds4n6_lib/requirements.txt (line 101)) (6.2)\n",
      "Requirement already satisfied: tqdm==4.64.0 in /home/dfir/.local/lib/python3.10/site-packages (from -r /home/dfir/Downloads/ds4n6_lib/requirements.txt (line 102)) (4.64.0)\n",
      "Requirement already satisfied: traitlets==5.6.0 in /home/dfir/.local/lib/python3.10/site-packages (from -r /home/dfir/Downloads/ds4n6_lib/requirements.txt (line 103)) (5.6.0)\n",
      "Requirement already satisfied: typing-extensions==4.3.0 in /home/dfir/.local/lib/python3.10/site-packages (from -r /home/dfir/Downloads/ds4n6_lib/requirements.txt (line 104)) (4.3.0)\n",
      "Requirement already satisfied: urllib3==1.26.11 in /home/dfir/.local/lib/python3.10/site-packages (from -r /home/dfir/Downloads/ds4n6_lib/requirements.txt (line 105)) (1.26.11)\n",
      "Requirement already satisfied: wcwidth==0.2.5 in /home/dfir/.local/lib/python3.10/site-packages (from -r /home/dfir/Downloads/ds4n6_lib/requirements.txt (line 106)) (0.2.5)\n",
      "Requirement already satisfied: webencodings==0.5.1 in /usr/local/lib/python3.10/dist-packages (from -r /home/dfir/Downloads/ds4n6_lib/requirements.txt (line 107)) (0.5.1)\n",
      "Requirement already satisfied: Werkzeug==2.2.0 in /home/dfir/.local/lib/python3.10/site-packages (from -r /home/dfir/Downloads/ds4n6_lib/requirements.txt (line 108)) (2.2.0)\n",
      "Requirement already satisfied: widgetsnbextension==3.6.1 in /home/dfir/.local/lib/python3.10/site-packages (from -r /home/dfir/Downloads/ds4n6_lib/requirements.txt (line 109)) (3.6.1)\n",
      "Requirement already satisfied: wrapt==1.14.1 in /home/dfir/.local/lib/python3.10/site-packages (from -r /home/dfir/Downloads/ds4n6_lib/requirements.txt (line 110)) (1.14.1)\n",
      "Requirement already satisfied: xmltodict==0.12.0 in /home/dfir/.local/lib/python3.10/site-packages (from -r /home/dfir/Downloads/ds4n6_lib/requirements.txt (line 111)) (0.12.0)\n",
      "Requirement already satisfied: zipp==1.0.0 in /usr/lib/python3/dist-packages (from -r /home/dfir/Downloads/ds4n6_lib/requirements.txt (line 112)) (1.0.0)\n",
      "Requirement already satisfied: argon2-cffi-bindings in /usr/local/lib/python3.10/dist-packages (from argon2-cffi==21.3.0->-r /home/dfir/Downloads/ds4n6_lib/requirements.txt (line 2)) (21.2.0)\n",
      "Requirement already satisfied: wheel<1.0,>=0.23.0 in /home/dfir/.local/lib/python3.10/site-packages (from astunparse==1.6.3->-r /home/dfir/Downloads/ds4n6_lib/requirements.txt (line 3)) (0.43.0)\n",
      "Requirement already satisfied: smart-open>=1.8.1 in /home/dfir/.local/lib/python3.10/site-packages (from gensim==4.1.2->-r /home/dfir/Downloads/ds4n6_lib/requirements.txt (line 20)) (7.0.4)\n",
      "Requirement already satisfied: debugpy>=1.0 in /usr/local/lib/python3.10/dist-packages (from ipykernel==6.14.0->-r /home/dfir/Downloads/ds4n6_lib/requirements.txt (line 30)) (1.8.1)\n",
      "Requirement already satisfied: matplotlib-inline>=0.1 in /usr/local/lib/python3.10/dist-packages (from ipykernel==6.14.0->-r /home/dfir/Downloads/ds4n6_lib/requirements.txt (line 30)) (0.1.7)\n",
      "Requirement already satisfied: psutil in /usr/local/lib/python3.10/dist-packages (from ipykernel==6.14.0->-r /home/dfir/Downloads/ds4n6_lib/requirements.txt (line 30)) (6.0.0)\n",
      "Requirement already satisfied: setuptools>=18.5 in /home/dfir/.local/lib/python3.10/site-packages (from ipython==7.31.1->-r /home/dfir/Downloads/ds4n6_lib/requirements.txt (line 31)) (70.1.0)\n",
      "Requirement already satisfied: jsonschema-specifications>=2023.03.6 in /usr/local/lib/python3.10/dist-packages (from jsonschema==4.18.0->-r /home/dfir/Downloads/ds4n6_lib/requirements.txt (line 37)) (2023.12.1)\n",
      "Requirement already satisfied: referencing>=0.28.4 in /usr/local/lib/python3.10/dist-packages (from jsonschema==4.18.0->-r /home/dfir/Downloads/ds4n6_lib/requirements.txt (line 37)) (0.35.1)\n",
      "Requirement already satisfied: rpds-py>=0.7.1 in /usr/local/lib/python3.10/dist-packages (from jsonschema==4.18.0->-r /home/dfir/Downloads/ds4n6_lib/requirements.txt (line 37)) (0.18.1)\n",
      "Requirement already satisfied: fonttools>=4.22.0 in /home/dfir/.local/lib/python3.10/site-packages (from matplotlib==3.5.2->-r /home/dfir/Downloads/ds4n6_lib/requirements.txt (line 47)) (4.53.0)\n",
      "Requirement already satisfied: lxml in /home/dfir/.local/lib/python3.10/site-packages (from nbconvert==6.5.3->-r /home/dfir/Downloads/ds4n6_lib/requirements.txt (line 51)) (5.2.2)\n",
      "Requirement already satisfied: beautifulsoup4 in /usr/local/lib/python3.10/dist-packages (from nbconvert==6.5.3->-r /home/dfir/Downloads/ds4n6_lib/requirements.txt (line 51)) (4.12.3)\n",
      "Requirement already satisfied: tinycss2 in /usr/local/lib/python3.10/dist-packages (from nbconvert==6.5.3->-r /home/dfir/Downloads/ds4n6_lib/requirements.txt (line 51)) (1.3.0)\n",
      "Requirement already satisfied: fastjsonschema in /usr/local/lib/python3.10/dist-packages (from nbformat==5.4.0->-r /home/dfir/Downloads/ds4n6_lib/requirements.txt (line 52)) (2.20.0)\n",
      "Requirement already satisfied: charset-normalizer<4,>=2 in /home/dfir/.local/lib/python3.10/site-packages (from requests==2.31.0->-r /home/dfir/Downloads/ds4n6_lib/requirements.txt (line 82)) (2.1.1)\n",
      "Requirement already satisfied: tensorboard-data-server<0.7.0,>=0.6.0 in /home/dfir/.local/lib/python3.10/site-packages (from tensorboard==2.9.1->-r /home/dfir/Downloads/ds4n6_lib/requirements.txt (line 93)) (0.6.1)\n",
      "Requirement already satisfied: libclang>=13.0.0 in /home/dfir/.local/lib/python3.10/site-packages (from tensorflow==2.9.1->-r /home/dfir/Downloads/ds4n6_lib/requirements.txt (line 95)) (18.1.1)\n",
      "Requirement already satisfied: tensorflow-io-gcs-filesystem>=0.23.1 in /home/dfir/.local/lib/python3.10/site-packages (from tensorflow==2.9.1->-r /home/dfir/Downloads/ds4n6_lib/requirements.txt (line 95)) (0.37.0)\n",
      "Requirement already satisfied: soupsieve>1.2 in /usr/local/lib/python3.10/dist-packages (from beautifulsoup4->nbconvert==6.5.3->-r /home/dfir/Downloads/ds4n6_lib/requirements.txt (line 51)) (2.5)\n"
     ]
    }
   ],
   "source": [
    "!pip install -r /home/dfir/Downloads/ds4n6_lib/requirements.txt"
   ]
  },
  {
   "cell_type": "code",
   "execution_count": 2,
   "id": "b85aa334-1dae-4cf5-ab51-2d756a10d1d0",
   "metadata": {},
   "outputs": [
    {
     "name": "stdout",
     "output_type": "stream",
     "text": [
      "Defaulting to user installation because normal site-packages is not writeable\n",
      "Requirement already satisfied: ds4n6-lib in /home/dfir/.local/lib/python3.10/site-packages (0.8.2)\n",
      "Requirement already satisfied: requests in /home/dfir/.local/lib/python3.10/site-packages (from ds4n6-lib) (2.31.0)\n",
      "Requirement already satisfied: numpy in /home/dfir/.local/lib/python3.10/site-packages (from ds4n6-lib) (1.24.4)\n",
      "Requirement already satisfied: pandas in /home/dfir/.local/lib/python3.10/site-packages (from ds4n6-lib) (1.4.3)\n",
      "Requirement already satisfied: Evtx in /home/dfir/.local/lib/python3.10/site-packages (from ds4n6-lib) (0.8.4)\n",
      "Requirement already satisfied: python-evtx in /home/dfir/.local/lib/python3.10/site-packages (from ds4n6-lib) (0.7.4)\n",
      "Requirement already satisfied: ipyaggrid in /home/dfir/.local/lib/python3.10/site-packages (from ds4n6-lib) (0.2.1)\n",
      "Requirement already satisfied: IPython in /home/dfir/.local/lib/python3.10/site-packages (from ds4n6-lib) (7.31.1)\n",
      "Requirement already satisfied: ipywidgets in /home/dfir/.local/lib/python3.10/site-packages (from ds4n6-lib) (7.7.2)\n",
      "Requirement already satisfied: keras in /home/dfir/.local/lib/python3.10/site-packages (from ds4n6-lib) (2.9.0)\n",
      "Requirement already satisfied: matplotlib in /home/dfir/.local/lib/python3.10/site-packages (from ds4n6-lib) (3.5.2)\n",
      "Requirement already satisfied: nbformat in /home/dfir/.local/lib/python3.10/site-packages (from ds4n6-lib) (5.4.0)\n",
      "Requirement already satisfied: pyparsing in /home/dfir/.local/lib/python3.10/site-packages (from ds4n6-lib) (2.4.7)\n",
      "Requirement already satisfied: qgrid in /home/dfir/.local/lib/python3.10/site-packages (from ds4n6-lib) (1.3.1)\n",
      "Requirement already satisfied: ruamel.yaml in /home/dfir/.local/lib/python3.10/site-packages (from ds4n6-lib) (0.17.21)\n",
      "Requirement already satisfied: sklearn in /home/dfir/.local/lib/python3.10/site-packages (from ds4n6-lib) (0.0)\n",
      "Requirement already satisfied: tensorflow in /home/dfir/.local/lib/python3.10/site-packages (from ds4n6-lib) (2.9.1)\n",
      "Requirement already satisfied: tqdm in /home/dfir/.local/lib/python3.10/site-packages (from ds4n6-lib) (4.64.0)\n",
      "Requirement already satisfied: traitlets in /home/dfir/.local/lib/python3.10/site-packages (from ds4n6-lib) (5.6.0)\n",
      "Requirement already satisfied: xmltodict in /home/dfir/.local/lib/python3.10/site-packages (from ds4n6-lib) (0.12.0)\n",
      "Requirement already satisfied: networkx in /home/dfir/.local/lib/python3.10/site-packages (from ds4n6-lib) (2.8.4)\n",
      "Requirement already satisfied: gensim in /home/dfir/.local/lib/python3.10/site-packages (from ds4n6-lib) (4.1.2)\n",
      "Requirement already satisfied: scipy>=0.18.1 in /home/dfir/.local/lib/python3.10/site-packages (from gensim->ds4n6-lib) (1.8.1)\n",
      "Requirement already satisfied: smart-open>=1.8.1 in /home/dfir/.local/lib/python3.10/site-packages (from gensim->ds4n6-lib) (7.0.4)\n",
      "Requirement already satisfied: simplejson>=3.13.2 in /home/dfir/.local/lib/python3.10/site-packages (from ipyaggrid->ds4n6-lib) (3.17.6)\n",
      "Requirement already satisfied: ipykernel>=4.5.1 in /home/dfir/.local/lib/python3.10/site-packages (from ipywidgets->ds4n6-lib) (6.14.0)\n",
      "Requirement already satisfied: ipython-genutils~=0.2.0 in /home/dfir/.local/lib/python3.10/site-packages (from ipywidgets->ds4n6-lib) (0.2.0)\n",
      "Requirement already satisfied: widgetsnbextension~=3.6.0 in /home/dfir/.local/lib/python3.10/site-packages (from ipywidgets->ds4n6-lib) (3.6.1)\n",
      "Requirement already satisfied: jupyterlab-widgets<3,>=1.0.0 in /home/dfir/.local/lib/python3.10/site-packages (from ipywidgets->ds4n6-lib) (1.1.1)\n",
      "Requirement already satisfied: setuptools>=18.5 in /home/dfir/.local/lib/python3.10/site-packages (from IPython->ds4n6-lib) (70.1.0)\n",
      "Requirement already satisfied: jedi>=0.16 in /home/dfir/.local/lib/python3.10/site-packages (from IPython->ds4n6-lib) (0.18.1)\n",
      "Requirement already satisfied: decorator in /home/dfir/.local/lib/python3.10/site-packages (from IPython->ds4n6-lib) (5.1.1)\n",
      "Requirement already satisfied: pickleshare in /home/dfir/.local/lib/python3.10/site-packages (from IPython->ds4n6-lib) (0.7.5)\n",
      "Requirement already satisfied: prompt-toolkit!=3.0.0,!=3.0.1,<3.1.0,>=2.0.0 in /home/dfir/.local/lib/python3.10/site-packages (from IPython->ds4n6-lib) (3.0.30)\n",
      "Requirement already satisfied: pygments in /home/dfir/.local/lib/python3.10/site-packages (from IPython->ds4n6-lib) (2.12.0)\n",
      "Requirement already satisfied: backcall in /home/dfir/.local/lib/python3.10/site-packages (from IPython->ds4n6-lib) (0.2.0)\n",
      "Requirement already satisfied: matplotlib-inline in /usr/local/lib/python3.10/dist-packages (from IPython->ds4n6-lib) (0.1.7)\n",
      "Requirement already satisfied: pexpect>4.3 in /usr/lib/python3/dist-packages (from IPython->ds4n6-lib) (4.8.0)\n",
      "Requirement already satisfied: cycler>=0.10 in /home/dfir/.local/lib/python3.10/site-packages (from matplotlib->ds4n6-lib) (0.11.0)\n",
      "Requirement already satisfied: fonttools>=4.22.0 in /home/dfir/.local/lib/python3.10/site-packages (from matplotlib->ds4n6-lib) (4.53.0)\n",
      "Requirement already satisfied: kiwisolver>=1.0.1 in /home/dfir/.local/lib/python3.10/site-packages (from matplotlib->ds4n6-lib) (1.4.4)\n",
      "Requirement already satisfied: packaging>=20.0 in /home/dfir/.local/lib/python3.10/site-packages (from matplotlib->ds4n6-lib) (22.0)\n",
      "Requirement already satisfied: pillow>=6.2.0 in /home/dfir/.local/lib/python3.10/site-packages (from matplotlib->ds4n6-lib) (9.1.1)\n",
      "Requirement already satisfied: python-dateutil>=2.7 in /home/dfir/.local/lib/python3.10/site-packages (from matplotlib->ds4n6-lib) (2.8.2)\n",
      "Requirement already satisfied: jsonschema>=2.6 in /home/dfir/.local/lib/python3.10/site-packages (from nbformat->ds4n6-lib) (4.18.0)\n",
      "Requirement already satisfied: jupyter-core in /home/dfir/.local/lib/python3.10/site-packages (from nbformat->ds4n6-lib) (4.12.0)\n",
      "Requirement already satisfied: fastjsonschema in /usr/local/lib/python3.10/dist-packages (from nbformat->ds4n6-lib) (2.20.0)\n",
      "Requirement already satisfied: pytz>=2020.1 in /home/dfir/.local/lib/python3.10/site-packages (from pandas->ds4n6-lib) (2022.1)\n",
      "Requirement already satisfied: six in /home/dfir/.local/lib/python3.10/site-packages (from python-evtx->ds4n6-lib) (1.16.0)\n",
      "Requirement already satisfied: hexdump==3.3 in /home/dfir/.local/lib/python3.10/site-packages (from python-evtx->ds4n6-lib) (3.3)\n",
      "Requirement already satisfied: more-itertools==5.0.0 in /home/dfir/.local/lib/python3.10/site-packages (from python-evtx->ds4n6-lib) (5.0.0)\n",
      "Requirement already satisfied: zipp==1.0.0 in /usr/lib/python3/dist-packages (from python-evtx->ds4n6-lib) (1.0.0)\n",
      "Requirement already satisfied: configparser==4.0.2 in /home/dfir/.local/lib/python3.10/site-packages (from python-evtx->ds4n6-lib) (4.0.2)\n",
      "Requirement already satisfied: notebook>=4.0.0 in /home/dfir/.local/lib/python3.10/site-packages (from qgrid->ds4n6-lib) (6.4.12)\n",
      "Requirement already satisfied: charset-normalizer<4,>=2 in /home/dfir/.local/lib/python3.10/site-packages (from requests->ds4n6-lib) (2.1.1)\n",
      "Requirement already satisfied: idna<4,>=2.5 in /home/dfir/.local/lib/python3.10/site-packages (from requests->ds4n6-lib) (3.3)\n",
      "Requirement already satisfied: urllib3<3,>=1.21.1 in /home/dfir/.local/lib/python3.10/site-packages (from requests->ds4n6-lib) (1.26.11)\n",
      "Requirement already satisfied: certifi>=2017.4.17 in /home/dfir/.local/lib/python3.10/site-packages (from requests->ds4n6-lib) (2022.6.15)\n",
      "Requirement already satisfied: ruamel.yaml.clib>=0.2.6 in /home/dfir/.local/lib/python3.10/site-packages (from ruamel.yaml->ds4n6-lib) (0.2.6)\n",
      "Requirement already satisfied: scikit-learn in /home/dfir/.local/lib/python3.10/site-packages (from sklearn->ds4n6-lib) (1.1.1)\n",
      "Requirement already satisfied: absl-py>=1.0.0 in /home/dfir/.local/lib/python3.10/site-packages (from tensorflow->ds4n6-lib) (1.4.0)\n",
      "Requirement already satisfied: astunparse>=1.6.0 in /home/dfir/.local/lib/python3.10/site-packages (from tensorflow->ds4n6-lib) (1.6.3)\n",
      "Requirement already satisfied: flatbuffers<2,>=1.12 in /home/dfir/.local/lib/python3.10/site-packages (from tensorflow->ds4n6-lib) (1.12)\n",
      "Requirement already satisfied: gast<=0.4.0,>=0.2.1 in /home/dfir/.local/lib/python3.10/site-packages (from tensorflow->ds4n6-lib) (0.4.0)\n",
      "Requirement already satisfied: google-pasta>=0.1.1 in /home/dfir/.local/lib/python3.10/site-packages (from tensorflow->ds4n6-lib) (0.2.0)\n",
      "Requirement already satisfied: grpcio<2.0,>=1.24.3 in /home/dfir/.local/lib/python3.10/site-packages (from tensorflow->ds4n6-lib) (1.46.3)\n",
      "Requirement already satisfied: h5py>=2.9.0 in /home/dfir/.local/lib/python3.10/site-packages (from tensorflow->ds4n6-lib) (3.6.0)\n",
      "Requirement already satisfied: keras-preprocessing>=1.1.1 in /home/dfir/.local/lib/python3.10/site-packages (from tensorflow->ds4n6-lib) (1.1.2)\n",
      "Requirement already satisfied: libclang>=13.0.0 in /home/dfir/.local/lib/python3.10/site-packages (from tensorflow->ds4n6-lib) (18.1.1)\n",
      "Requirement already satisfied: opt-einsum>=2.3.2 in /home/dfir/.local/lib/python3.10/site-packages (from tensorflow->ds4n6-lib) (3.3.0)\n",
      "Requirement already satisfied: protobuf<3.20,>=3.9.2 in /home/dfir/.local/lib/python3.10/site-packages (from tensorflow->ds4n6-lib) (3.19.4)\n",
      "Requirement already satisfied: tensorboard<2.10,>=2.9 in /home/dfir/.local/lib/python3.10/site-packages (from tensorflow->ds4n6-lib) (2.9.1)\n",
      "Requirement already satisfied: tensorflow-io-gcs-filesystem>=0.23.1 in /home/dfir/.local/lib/python3.10/site-packages (from tensorflow->ds4n6-lib) (0.37.0)\n",
      "Requirement already satisfied: tensorflow-estimator<2.10.0,>=2.9.0rc0 in /home/dfir/.local/lib/python3.10/site-packages (from tensorflow->ds4n6-lib) (2.9.0)\n",
      "Requirement already satisfied: termcolor>=1.1.0 in /home/dfir/.local/lib/python3.10/site-packages (from tensorflow->ds4n6-lib) (1.1.0)\n",
      "Requirement already satisfied: typing-extensions>=3.6.6 in /home/dfir/.local/lib/python3.10/site-packages (from tensorflow->ds4n6-lib) (4.3.0)\n",
      "Requirement already satisfied: wrapt>=1.11.0 in /home/dfir/.local/lib/python3.10/site-packages (from tensorflow->ds4n6-lib) (1.14.1)\n",
      "Requirement already satisfied: wheel<1.0,>=0.23.0 in /home/dfir/.local/lib/python3.10/site-packages (from astunparse>=1.6.0->tensorflow->ds4n6-lib) (0.43.0)\n",
      "Requirement already satisfied: debugpy>=1.0 in /usr/local/lib/python3.10/dist-packages (from ipykernel>=4.5.1->ipywidgets->ds4n6-lib) (1.8.1)\n",
      "Requirement already satisfied: jupyter-client>=6.1.12 in /home/dfir/.local/lib/python3.10/site-packages (from ipykernel>=4.5.1->ipywidgets->ds4n6-lib) (7.4.4)\n",
      "Requirement already satisfied: nest-asyncio in /home/dfir/.local/lib/python3.10/site-packages (from ipykernel>=4.5.1->ipywidgets->ds4n6-lib) (1.5.5)\n",
      "Requirement already satisfied: psutil in /usr/local/lib/python3.10/dist-packages (from ipykernel>=4.5.1->ipywidgets->ds4n6-lib) (6.0.0)\n",
      "Requirement already satisfied: tornado>=6.1 in /home/dfir/.local/lib/python3.10/site-packages (from ipykernel>=4.5.1->ipywidgets->ds4n6-lib) (6.2)\n",
      "Requirement already satisfied: parso<0.9.0,>=0.8.0 in /home/dfir/.local/lib/python3.10/site-packages (from jedi>=0.16->IPython->ds4n6-lib) (0.8.3)\n",
      "Requirement already satisfied: attrs>=22.2.0 in /home/dfir/.local/lib/python3.10/site-packages (from jsonschema>=2.6->nbformat->ds4n6-lib) (22.2.0)\n",
      "Requirement already satisfied: jsonschema-specifications>=2023.03.6 in /usr/local/lib/python3.10/dist-packages (from jsonschema>=2.6->nbformat->ds4n6-lib) (2023.12.1)\n",
      "Requirement already satisfied: referencing>=0.28.4 in /usr/local/lib/python3.10/dist-packages (from jsonschema>=2.6->nbformat->ds4n6-lib) (0.35.1)\n",
      "Requirement already satisfied: rpds-py>=0.7.1 in /usr/local/lib/python3.10/dist-packages (from jsonschema>=2.6->nbformat->ds4n6-lib) (0.18.1)\n",
      "Requirement already satisfied: jinja2 in /home/dfir/.local/lib/python3.10/site-packages (from notebook>=4.0.0->qgrid->ds4n6-lib) (3.1.2)\n",
      "Requirement already satisfied: pyzmq>=17 in /home/dfir/.local/lib/python3.10/site-packages (from notebook>=4.0.0->qgrid->ds4n6-lib) (24.0.0)\n",
      "Requirement already satisfied: argon2-cffi in /home/dfir/.local/lib/python3.10/site-packages (from notebook>=4.0.0->qgrid->ds4n6-lib) (21.3.0)\n",
      "Requirement already satisfied: nbconvert>=5 in /home/dfir/.local/lib/python3.10/site-packages (from notebook>=4.0.0->qgrid->ds4n6-lib) (6.5.3)\n",
      "Requirement already satisfied: Send2Trash>=1.8.0 in /home/dfir/.local/lib/python3.10/site-packages (from notebook>=4.0.0->qgrid->ds4n6-lib) (1.8.2)\n",
      "Requirement already satisfied: terminado>=0.8.3 in /home/dfir/.local/lib/python3.10/site-packages (from notebook>=4.0.0->qgrid->ds4n6-lib) (0.13.1)\n",
      "Requirement already satisfied: prometheus-client in /home/dfir/.local/lib/python3.10/site-packages (from notebook>=4.0.0->qgrid->ds4n6-lib) (0.14.1)\n",
      "Requirement already satisfied: wcwidth in /home/dfir/.local/lib/python3.10/site-packages (from prompt-toolkit!=3.0.0,!=3.0.1,<3.1.0,>=2.0.0->IPython->ds4n6-lib) (0.2.5)\n",
      "Requirement already satisfied: google-auth<3,>=1.6.3 in /home/dfir/.local/lib/python3.10/site-packages (from tensorboard<2.10,>=2.9->tensorflow->ds4n6-lib) (2.6.0)\n",
      "Requirement already satisfied: google-auth-oauthlib<0.5,>=0.4.1 in /home/dfir/.local/lib/python3.10/site-packages (from tensorboard<2.10,>=2.9->tensorflow->ds4n6-lib) (0.4.6)\n",
      "Requirement already satisfied: markdown>=2.6.8 in /home/dfir/.local/lib/python3.10/site-packages (from tensorboard<2.10,>=2.9->tensorflow->ds4n6-lib) (3.4.1)\n",
      "Requirement already satisfied: tensorboard-data-server<0.7.0,>=0.6.0 in /home/dfir/.local/lib/python3.10/site-packages (from tensorboard<2.10,>=2.9->tensorflow->ds4n6-lib) (0.6.1)\n",
      "Requirement already satisfied: tensorboard-plugin-wit>=1.6.0 in /home/dfir/.local/lib/python3.10/site-packages (from tensorboard<2.10,>=2.9->tensorflow->ds4n6-lib) (1.8.1)\n",
      "Requirement already satisfied: werkzeug>=1.0.1 in /home/dfir/.local/lib/python3.10/site-packages (from tensorboard<2.10,>=2.9->tensorflow->ds4n6-lib) (2.2.0)\n",
      "Requirement already satisfied: joblib>=1.0.0 in /home/dfir/.local/lib/python3.10/site-packages (from scikit-learn->sklearn->ds4n6-lib) (1.1.0)\n",
      "Requirement already satisfied: threadpoolctl>=2.0.0 in /home/dfir/.local/lib/python3.10/site-packages (from scikit-learn->sklearn->ds4n6-lib) (3.1.0)\n",
      "Requirement already satisfied: cachetools<6.0,>=2.0.0 in /home/dfir/.local/lib/python3.10/site-packages (from google-auth<3,>=1.6.3->tensorboard<2.10,>=2.9->tensorflow->ds4n6-lib) (4.2.4)\n",
      "Requirement already satisfied: pyasn1-modules>=0.2.1 in /home/dfir/.local/lib/python3.10/site-packages (from google-auth<3,>=1.6.3->tensorboard<2.10,>=2.9->tensorflow->ds4n6-lib) (0.2.8)\n",
      "Requirement already satisfied: rsa<5,>=3.1.4 in /home/dfir/.local/lib/python3.10/site-packages (from google-auth<3,>=1.6.3->tensorboard<2.10,>=2.9->tensorflow->ds4n6-lib) (4.8)\n",
      "Requirement already satisfied: requests-oauthlib>=0.7.0 in /home/dfir/.local/lib/python3.10/site-packages (from google-auth-oauthlib<0.5,>=0.4.1->tensorboard<2.10,>=2.9->tensorflow->ds4n6-lib) (1.3.1)\n",
      "Requirement already satisfied: entrypoints in /home/dfir/.local/lib/python3.10/site-packages (from jupyter-client>=6.1.12->ipykernel>=4.5.1->ipywidgets->ds4n6-lib) (0.3)\n",
      "Requirement already satisfied: lxml in /home/dfir/.local/lib/python3.10/site-packages (from nbconvert>=5->notebook>=4.0.0->qgrid->ds4n6-lib) (5.2.2)\n",
      "Requirement already satisfied: beautifulsoup4 in /usr/local/lib/python3.10/dist-packages (from nbconvert>=5->notebook>=4.0.0->qgrid->ds4n6-lib) (4.12.3)\n",
      "Requirement already satisfied: bleach in /home/dfir/.local/lib/python3.10/site-packages (from nbconvert>=5->notebook>=4.0.0->qgrid->ds4n6-lib) (4.1.0)\n",
      "Requirement already satisfied: defusedxml in /usr/local/lib/python3.10/dist-packages (from nbconvert>=5->notebook>=4.0.0->qgrid->ds4n6-lib) (0.7.1)\n",
      "Requirement already satisfied: jupyterlab-pygments in /home/dfir/.local/lib/python3.10/site-packages (from nbconvert>=5->notebook>=4.0.0->qgrid->ds4n6-lib) (0.2.2)\n",
      "Requirement already satisfied: MarkupSafe>=2.0 in /home/dfir/.local/lib/python3.10/site-packages (from nbconvert>=5->notebook>=4.0.0->qgrid->ds4n6-lib) (2.1.1)\n",
      "Requirement already satisfied: mistune<2,>=0.8.1 in /home/dfir/.local/lib/python3.10/site-packages (from nbconvert>=5->notebook>=4.0.0->qgrid->ds4n6-lib) (0.8.4)\n",
      "Requirement already satisfied: nbclient>=0.5.0 in /home/dfir/.local/lib/python3.10/site-packages (from nbconvert>=5->notebook>=4.0.0->qgrid->ds4n6-lib) (0.5.13)\n",
      "Requirement already satisfied: pandocfilters>=1.4.1 in /home/dfir/.local/lib/python3.10/site-packages (from nbconvert>=5->notebook>=4.0.0->qgrid->ds4n6-lib) (1.5.0)\n",
      "Requirement already satisfied: tinycss2 in /usr/local/lib/python3.10/dist-packages (from nbconvert>=5->notebook>=4.0.0->qgrid->ds4n6-lib) (1.3.0)\n",
      "Requirement already satisfied: ptyprocess in /usr/lib/python3/dist-packages (from terminado>=0.8.3->notebook>=4.0.0->qgrid->ds4n6-lib) (0.7.0)\n",
      "Requirement already satisfied: argon2-cffi-bindings in /usr/local/lib/python3.10/dist-packages (from argon2-cffi->notebook>=4.0.0->qgrid->ds4n6-lib) (21.2.0)\n",
      "Requirement already satisfied: pyasn1<0.5.0,>=0.4.6 in /home/dfir/.local/lib/python3.10/site-packages (from pyasn1-modules>=0.2.1->google-auth<3,>=1.6.3->tensorboard<2.10,>=2.9->tensorflow->ds4n6-lib) (0.4.8)\n",
      "Requirement already satisfied: oauthlib>=3.0.0 in /home/dfir/.local/lib/python3.10/site-packages (from requests-oauthlib>=0.7.0->google-auth-oauthlib<0.5,>=0.4.1->tensorboard<2.10,>=2.9->tensorflow->ds4n6-lib) (3.2.0)\n",
      "Requirement already satisfied: cffi>=1.0.1 in /home/dfir/.local/lib/python3.10/site-packages (from argon2-cffi-bindings->argon2-cffi->notebook>=4.0.0->qgrid->ds4n6-lib) (1.15.1)\n",
      "Requirement already satisfied: soupsieve>1.2 in /usr/local/lib/python3.10/dist-packages (from beautifulsoup4->nbconvert>=5->notebook>=4.0.0->qgrid->ds4n6-lib) (2.5)\n",
      "Requirement already satisfied: webencodings in /usr/local/lib/python3.10/dist-packages (from bleach->nbconvert>=5->notebook>=4.0.0->qgrid->ds4n6-lib) (0.5.1)\n",
      "Requirement already satisfied: pycparser in /home/dfir/.local/lib/python3.10/site-packages (from cffi>=1.0.1->argon2-cffi-bindings->argon2-cffi->notebook>=4.0.0->qgrid->ds4n6-lib) (2.21)\n"
     ]
    }
   ],
   "source": [
    "!pip install ds4n6-lib"
   ]
  },
  {
   "cell_type": "code",
   "execution_count": 3,
   "id": "0798a8f3",
   "metadata": {},
   "outputs": [
    {
     "name": "stdout",
     "output_type": "stream",
     "text": [
      "Defaulting to user installation because normal site-packages is not writeable\n",
      "Requirement already satisfied: python-evtx in /home/dfir/.local/lib/python3.10/site-packages (0.7.4)\n",
      "Requirement already satisfied: Evtx in /home/dfir/.local/lib/python3.10/site-packages (0.8.4)\n",
      "Requirement already satisfied: ipyaggrid in /home/dfir/.local/lib/python3.10/site-packages (0.2.1)\n",
      "Requirement already satisfied: IPython in /home/dfir/.local/lib/python3.10/site-packages (7.31.1)\n",
      "Requirement already satisfied: ipywidgets in /home/dfir/.local/lib/python3.10/site-packages (7.7.2)\n",
      "Requirement already satisfied: keras in /home/dfir/.local/lib/python3.10/site-packages (2.9.0)\n",
      "Requirement already satisfied: matplotlib in /home/dfir/.local/lib/python3.10/site-packages (3.5.2)\n",
      "Requirement already satisfied: nbformat in /home/dfir/.local/lib/python3.10/site-packages (5.4.0)\n",
      "Requirement already satisfied: numpy in /home/dfir/.local/lib/python3.10/site-packages (1.24.4)\n",
      "Requirement already satisfied: pandas in /home/dfir/.local/lib/python3.10/site-packages (1.4.3)\n",
      "Requirement already satisfied: pyparsing in /home/dfir/.local/lib/python3.10/site-packages (2.4.7)\n",
      "Requirement already satisfied: qgrid in /home/dfir/.local/lib/python3.10/site-packages (1.3.1)\n",
      "Requirement already satisfied: ruamel.yaml in /home/dfir/.local/lib/python3.10/site-packages (0.17.21)\n",
      "Requirement already satisfied: sklearn in /home/dfir/.local/lib/python3.10/site-packages (0.0)\n",
      "Requirement already satisfied: tensorflow in /home/dfir/.local/lib/python3.10/site-packages (2.9.1)\n",
      "Requirement already satisfied: tqdm in /home/dfir/.local/lib/python3.10/site-packages (4.64.0)\n",
      "Requirement already satisfied: traitlets in /home/dfir/.local/lib/python3.10/site-packages (5.6.0)\n",
      "Requirement already satisfied: xmltodict in /home/dfir/.local/lib/python3.10/site-packages (0.12.0)\n",
      "Requirement already satisfied: ds4n6-lib in /home/dfir/.local/lib/python3.10/site-packages (0.8.2)\n",
      "Requirement already satisfied: six in /home/dfir/.local/lib/python3.10/site-packages (from python-evtx) (1.16.0)\n",
      "Requirement already satisfied: hexdump==3.3 in /home/dfir/.local/lib/python3.10/site-packages (from python-evtx) (3.3)\n",
      "Requirement already satisfied: more-itertools==5.0.0 in /home/dfir/.local/lib/python3.10/site-packages (from python-evtx) (5.0.0)\n",
      "Requirement already satisfied: zipp==1.0.0 in /usr/lib/python3/dist-packages (from python-evtx) (1.0.0)\n",
      "Requirement already satisfied: configparser==4.0.2 in /home/dfir/.local/lib/python3.10/site-packages (from python-evtx) (4.0.2)\n",
      "Requirement already satisfied: simplejson>=3.13.2 in /home/dfir/.local/lib/python3.10/site-packages (from ipyaggrid) (3.17.6)\n",
      "Requirement already satisfied: setuptools>=18.5 in /home/dfir/.local/lib/python3.10/site-packages (from IPython) (70.1.0)\n",
      "Requirement already satisfied: jedi>=0.16 in /home/dfir/.local/lib/python3.10/site-packages (from IPython) (0.18.1)\n",
      "Requirement already satisfied: decorator in /home/dfir/.local/lib/python3.10/site-packages (from IPython) (5.1.1)\n",
      "Requirement already satisfied: pickleshare in /home/dfir/.local/lib/python3.10/site-packages (from IPython) (0.7.5)\n",
      "Requirement already satisfied: prompt-toolkit!=3.0.0,!=3.0.1,<3.1.0,>=2.0.0 in /home/dfir/.local/lib/python3.10/site-packages (from IPython) (3.0.30)\n",
      "Requirement already satisfied: pygments in /home/dfir/.local/lib/python3.10/site-packages (from IPython) (2.12.0)\n",
      "Requirement already satisfied: backcall in /home/dfir/.local/lib/python3.10/site-packages (from IPython) (0.2.0)\n",
      "Requirement already satisfied: matplotlib-inline in /usr/local/lib/python3.10/dist-packages (from IPython) (0.1.7)\n",
      "Requirement already satisfied: pexpect>4.3 in /usr/lib/python3/dist-packages (from IPython) (4.8.0)\n",
      "Requirement already satisfied: ipykernel>=4.5.1 in /home/dfir/.local/lib/python3.10/site-packages (from ipywidgets) (6.14.0)\n",
      "Requirement already satisfied: ipython-genutils~=0.2.0 in /home/dfir/.local/lib/python3.10/site-packages (from ipywidgets) (0.2.0)\n",
      "Requirement already satisfied: widgetsnbextension~=3.6.0 in /home/dfir/.local/lib/python3.10/site-packages (from ipywidgets) (3.6.1)\n",
      "Requirement already satisfied: jupyterlab-widgets<3,>=1.0.0 in /home/dfir/.local/lib/python3.10/site-packages (from ipywidgets) (1.1.1)\n",
      "Requirement already satisfied: cycler>=0.10 in /home/dfir/.local/lib/python3.10/site-packages (from matplotlib) (0.11.0)\n",
      "Requirement already satisfied: fonttools>=4.22.0 in /home/dfir/.local/lib/python3.10/site-packages (from matplotlib) (4.53.0)\n",
      "Requirement already satisfied: kiwisolver>=1.0.1 in /home/dfir/.local/lib/python3.10/site-packages (from matplotlib) (1.4.4)\n",
      "Requirement already satisfied: packaging>=20.0 in /home/dfir/.local/lib/python3.10/site-packages (from matplotlib) (22.0)\n",
      "Requirement already satisfied: pillow>=6.2.0 in /home/dfir/.local/lib/python3.10/site-packages (from matplotlib) (9.1.1)\n",
      "Requirement already satisfied: python-dateutil>=2.7 in /home/dfir/.local/lib/python3.10/site-packages (from matplotlib) (2.8.2)\n",
      "Requirement already satisfied: jsonschema>=2.6 in /home/dfir/.local/lib/python3.10/site-packages (from nbformat) (4.18.0)\n",
      "Requirement already satisfied: jupyter-core in /home/dfir/.local/lib/python3.10/site-packages (from nbformat) (4.12.0)\n",
      "Requirement already satisfied: fastjsonschema in /usr/local/lib/python3.10/dist-packages (from nbformat) (2.20.0)\n",
      "Requirement already satisfied: pytz>=2020.1 in /home/dfir/.local/lib/python3.10/site-packages (from pandas) (2022.1)\n",
      "Requirement already satisfied: notebook>=4.0.0 in /home/dfir/.local/lib/python3.10/site-packages (from qgrid) (6.4.12)\n",
      "Requirement already satisfied: ruamel.yaml.clib>=0.2.6 in /home/dfir/.local/lib/python3.10/site-packages (from ruamel.yaml) (0.2.6)\n",
      "Requirement already satisfied: scikit-learn in /home/dfir/.local/lib/python3.10/site-packages (from sklearn) (1.1.1)\n",
      "Requirement already satisfied: absl-py>=1.0.0 in /home/dfir/.local/lib/python3.10/site-packages (from tensorflow) (1.4.0)\n",
      "Requirement already satisfied: astunparse>=1.6.0 in /home/dfir/.local/lib/python3.10/site-packages (from tensorflow) (1.6.3)\n",
      "Requirement already satisfied: flatbuffers<2,>=1.12 in /home/dfir/.local/lib/python3.10/site-packages (from tensorflow) (1.12)\n",
      "Requirement already satisfied: gast<=0.4.0,>=0.2.1 in /home/dfir/.local/lib/python3.10/site-packages (from tensorflow) (0.4.0)\n",
      "Requirement already satisfied: google-pasta>=0.1.1 in /home/dfir/.local/lib/python3.10/site-packages (from tensorflow) (0.2.0)\n",
      "Requirement already satisfied: grpcio<2.0,>=1.24.3 in /home/dfir/.local/lib/python3.10/site-packages (from tensorflow) (1.46.3)\n",
      "Requirement already satisfied: h5py>=2.9.0 in /home/dfir/.local/lib/python3.10/site-packages (from tensorflow) (3.6.0)\n",
      "Requirement already satisfied: keras-preprocessing>=1.1.1 in /home/dfir/.local/lib/python3.10/site-packages (from tensorflow) (1.1.2)\n",
      "Requirement already satisfied: libclang>=13.0.0 in /home/dfir/.local/lib/python3.10/site-packages (from tensorflow) (18.1.1)\n",
      "Requirement already satisfied: opt-einsum>=2.3.2 in /home/dfir/.local/lib/python3.10/site-packages (from tensorflow) (3.3.0)\n",
      "Requirement already satisfied: protobuf<3.20,>=3.9.2 in /home/dfir/.local/lib/python3.10/site-packages (from tensorflow) (3.19.4)\n",
      "Requirement already satisfied: tensorboard<2.10,>=2.9 in /home/dfir/.local/lib/python3.10/site-packages (from tensorflow) (2.9.1)\n",
      "Requirement already satisfied: tensorflow-io-gcs-filesystem>=0.23.1 in /home/dfir/.local/lib/python3.10/site-packages (from tensorflow) (0.37.0)\n",
      "Requirement already satisfied: tensorflow-estimator<2.10.0,>=2.9.0rc0 in /home/dfir/.local/lib/python3.10/site-packages (from tensorflow) (2.9.0)\n",
      "Requirement already satisfied: termcolor>=1.1.0 in /home/dfir/.local/lib/python3.10/site-packages (from tensorflow) (1.1.0)\n",
      "Requirement already satisfied: typing-extensions>=3.6.6 in /home/dfir/.local/lib/python3.10/site-packages (from tensorflow) (4.3.0)\n",
      "Requirement already satisfied: wrapt>=1.11.0 in /home/dfir/.local/lib/python3.10/site-packages (from tensorflow) (1.14.1)\n",
      "Requirement already satisfied: requests in /home/dfir/.local/lib/python3.10/site-packages (from ds4n6-lib) (2.31.0)\n",
      "Requirement already satisfied: networkx in /home/dfir/.local/lib/python3.10/site-packages (from ds4n6-lib) (2.8.4)\n",
      "Requirement already satisfied: gensim in /home/dfir/.local/lib/python3.10/site-packages (from ds4n6-lib) (4.1.2)\n",
      "Requirement already satisfied: wheel<1.0,>=0.23.0 in /home/dfir/.local/lib/python3.10/site-packages (from astunparse>=1.6.0->tensorflow) (0.43.0)\n",
      "Requirement already satisfied: debugpy>=1.0 in /usr/local/lib/python3.10/dist-packages (from ipykernel>=4.5.1->ipywidgets) (1.8.1)\n",
      "Requirement already satisfied: jupyter-client>=6.1.12 in /home/dfir/.local/lib/python3.10/site-packages (from ipykernel>=4.5.1->ipywidgets) (7.4.4)\n",
      "Requirement already satisfied: nest-asyncio in /home/dfir/.local/lib/python3.10/site-packages (from ipykernel>=4.5.1->ipywidgets) (1.5.5)\n",
      "Requirement already satisfied: psutil in /usr/local/lib/python3.10/dist-packages (from ipykernel>=4.5.1->ipywidgets) (6.0.0)\n",
      "Requirement already satisfied: tornado>=6.1 in /home/dfir/.local/lib/python3.10/site-packages (from ipykernel>=4.5.1->ipywidgets) (6.2)\n",
      "Requirement already satisfied: parso<0.9.0,>=0.8.0 in /home/dfir/.local/lib/python3.10/site-packages (from jedi>=0.16->IPython) (0.8.3)\n",
      "Requirement already satisfied: attrs>=22.2.0 in /home/dfir/.local/lib/python3.10/site-packages (from jsonschema>=2.6->nbformat) (22.2.0)\n",
      "Requirement already satisfied: jsonschema-specifications>=2023.03.6 in /usr/local/lib/python3.10/dist-packages (from jsonschema>=2.6->nbformat) (2023.12.1)\n",
      "Requirement already satisfied: referencing>=0.28.4 in /usr/local/lib/python3.10/dist-packages (from jsonschema>=2.6->nbformat) (0.35.1)\n",
      "Requirement already satisfied: rpds-py>=0.7.1 in /usr/local/lib/python3.10/dist-packages (from jsonschema>=2.6->nbformat) (0.18.1)\n",
      "Requirement already satisfied: jinja2 in /home/dfir/.local/lib/python3.10/site-packages (from notebook>=4.0.0->qgrid) (3.1.2)\n",
      "Requirement already satisfied: pyzmq>=17 in /home/dfir/.local/lib/python3.10/site-packages (from notebook>=4.0.0->qgrid) (24.0.0)\n",
      "Requirement already satisfied: argon2-cffi in /home/dfir/.local/lib/python3.10/site-packages (from notebook>=4.0.0->qgrid) (21.3.0)\n",
      "Requirement already satisfied: nbconvert>=5 in /home/dfir/.local/lib/python3.10/site-packages (from notebook>=4.0.0->qgrid) (6.5.3)\n",
      "Requirement already satisfied: Send2Trash>=1.8.0 in /home/dfir/.local/lib/python3.10/site-packages (from notebook>=4.0.0->qgrid) (1.8.2)\n",
      "Requirement already satisfied: terminado>=0.8.3 in /home/dfir/.local/lib/python3.10/site-packages (from notebook>=4.0.0->qgrid) (0.13.1)\n",
      "Requirement already satisfied: prometheus-client in /home/dfir/.local/lib/python3.10/site-packages (from notebook>=4.0.0->qgrid) (0.14.1)\n",
      "Requirement already satisfied: wcwidth in /home/dfir/.local/lib/python3.10/site-packages (from prompt-toolkit!=3.0.0,!=3.0.1,<3.1.0,>=2.0.0->IPython) (0.2.5)\n",
      "Requirement already satisfied: google-auth<3,>=1.6.3 in /home/dfir/.local/lib/python3.10/site-packages (from tensorboard<2.10,>=2.9->tensorflow) (2.6.0)\n",
      "Requirement already satisfied: google-auth-oauthlib<0.5,>=0.4.1 in /home/dfir/.local/lib/python3.10/site-packages (from tensorboard<2.10,>=2.9->tensorflow) (0.4.6)\n",
      "Requirement already satisfied: markdown>=2.6.8 in /home/dfir/.local/lib/python3.10/site-packages (from tensorboard<2.10,>=2.9->tensorflow) (3.4.1)\n",
      "Requirement already satisfied: tensorboard-data-server<0.7.0,>=0.6.0 in /home/dfir/.local/lib/python3.10/site-packages (from tensorboard<2.10,>=2.9->tensorflow) (0.6.1)\n",
      "Requirement already satisfied: tensorboard-plugin-wit>=1.6.0 in /home/dfir/.local/lib/python3.10/site-packages (from tensorboard<2.10,>=2.9->tensorflow) (1.8.1)\n",
      "Requirement already satisfied: werkzeug>=1.0.1 in /home/dfir/.local/lib/python3.10/site-packages (from tensorboard<2.10,>=2.9->tensorflow) (2.2.0)\n",
      "Requirement already satisfied: charset-normalizer<4,>=2 in /home/dfir/.local/lib/python3.10/site-packages (from requests->ds4n6-lib) (2.1.1)\n",
      "Requirement already satisfied: idna<4,>=2.5 in /home/dfir/.local/lib/python3.10/site-packages (from requests->ds4n6-lib) (3.3)\n",
      "Requirement already satisfied: urllib3<3,>=1.21.1 in /home/dfir/.local/lib/python3.10/site-packages (from requests->ds4n6-lib) (1.26.11)\n",
      "Requirement already satisfied: certifi>=2017.4.17 in /home/dfir/.local/lib/python3.10/site-packages (from requests->ds4n6-lib) (2022.6.15)\n",
      "Requirement already satisfied: scipy>=0.18.1 in /home/dfir/.local/lib/python3.10/site-packages (from gensim->ds4n6-lib) (1.8.1)\n",
      "Requirement already satisfied: smart-open>=1.8.1 in /home/dfir/.local/lib/python3.10/site-packages (from gensim->ds4n6-lib) (7.0.4)\n",
      "Requirement already satisfied: joblib>=1.0.0 in /home/dfir/.local/lib/python3.10/site-packages (from scikit-learn->sklearn) (1.1.0)\n",
      "Requirement already satisfied: threadpoolctl>=2.0.0 in /home/dfir/.local/lib/python3.10/site-packages (from scikit-learn->sklearn) (3.1.0)\n",
      "Requirement already satisfied: cachetools<6.0,>=2.0.0 in /home/dfir/.local/lib/python3.10/site-packages (from google-auth<3,>=1.6.3->tensorboard<2.10,>=2.9->tensorflow) (4.2.4)\n",
      "Requirement already satisfied: pyasn1-modules>=0.2.1 in /home/dfir/.local/lib/python3.10/site-packages (from google-auth<3,>=1.6.3->tensorboard<2.10,>=2.9->tensorflow) (0.2.8)\n",
      "Requirement already satisfied: rsa<5,>=3.1.4 in /home/dfir/.local/lib/python3.10/site-packages (from google-auth<3,>=1.6.3->tensorboard<2.10,>=2.9->tensorflow) (4.8)\n",
      "Requirement already satisfied: requests-oauthlib>=0.7.0 in /home/dfir/.local/lib/python3.10/site-packages (from google-auth-oauthlib<0.5,>=0.4.1->tensorboard<2.10,>=2.9->tensorflow) (1.3.1)\n",
      "Requirement already satisfied: entrypoints in /home/dfir/.local/lib/python3.10/site-packages (from jupyter-client>=6.1.12->ipykernel>=4.5.1->ipywidgets) (0.3)\n",
      "Requirement already satisfied: lxml in /home/dfir/.local/lib/python3.10/site-packages (from nbconvert>=5->notebook>=4.0.0->qgrid) (5.2.2)\n",
      "Requirement already satisfied: beautifulsoup4 in /usr/local/lib/python3.10/dist-packages (from nbconvert>=5->notebook>=4.0.0->qgrid) (4.12.3)\n",
      "Requirement already satisfied: bleach in /home/dfir/.local/lib/python3.10/site-packages (from nbconvert>=5->notebook>=4.0.0->qgrid) (4.1.0)\n",
      "Requirement already satisfied: defusedxml in /usr/local/lib/python3.10/dist-packages (from nbconvert>=5->notebook>=4.0.0->qgrid) (0.7.1)\n",
      "Requirement already satisfied: jupyterlab-pygments in /home/dfir/.local/lib/python3.10/site-packages (from nbconvert>=5->notebook>=4.0.0->qgrid) (0.2.2)\n",
      "Requirement already satisfied: MarkupSafe>=2.0 in /home/dfir/.local/lib/python3.10/site-packages (from nbconvert>=5->notebook>=4.0.0->qgrid) (2.1.1)\n",
      "Requirement already satisfied: mistune<2,>=0.8.1 in /home/dfir/.local/lib/python3.10/site-packages (from nbconvert>=5->notebook>=4.0.0->qgrid) (0.8.4)\n",
      "Requirement already satisfied: nbclient>=0.5.0 in /home/dfir/.local/lib/python3.10/site-packages (from nbconvert>=5->notebook>=4.0.0->qgrid) (0.5.13)\n",
      "Requirement already satisfied: pandocfilters>=1.4.1 in /home/dfir/.local/lib/python3.10/site-packages (from nbconvert>=5->notebook>=4.0.0->qgrid) (1.5.0)\n",
      "Requirement already satisfied: tinycss2 in /usr/local/lib/python3.10/dist-packages (from nbconvert>=5->notebook>=4.0.0->qgrid) (1.3.0)\n",
      "Requirement already satisfied: ptyprocess in /usr/lib/python3/dist-packages (from terminado>=0.8.3->notebook>=4.0.0->qgrid) (0.7.0)\n",
      "Requirement already satisfied: argon2-cffi-bindings in /usr/local/lib/python3.10/dist-packages (from argon2-cffi->notebook>=4.0.0->qgrid) (21.2.0)\n",
      "Requirement already satisfied: pyasn1<0.5.0,>=0.4.6 in /home/dfir/.local/lib/python3.10/site-packages (from pyasn1-modules>=0.2.1->google-auth<3,>=1.6.3->tensorboard<2.10,>=2.9->tensorflow) (0.4.8)\n",
      "Requirement already satisfied: oauthlib>=3.0.0 in /home/dfir/.local/lib/python3.10/site-packages (from requests-oauthlib>=0.7.0->google-auth-oauthlib<0.5,>=0.4.1->tensorboard<2.10,>=2.9->tensorflow) (3.2.0)\n",
      "Requirement already satisfied: cffi>=1.0.1 in /home/dfir/.local/lib/python3.10/site-packages (from argon2-cffi-bindings->argon2-cffi->notebook>=4.0.0->qgrid) (1.15.1)\n",
      "Requirement already satisfied: soupsieve>1.2 in /usr/local/lib/python3.10/dist-packages (from beautifulsoup4->nbconvert>=5->notebook>=4.0.0->qgrid) (2.5)\n",
      "Requirement already satisfied: webencodings in /usr/local/lib/python3.10/dist-packages (from bleach->nbconvert>=5->notebook>=4.0.0->qgrid) (0.5.1)\n",
      "Requirement already satisfied: pycparser in /home/dfir/.local/lib/python3.10/site-packages (from cffi>=1.0.1->argon2-cffi-bindings->argon2-cffi->notebook>=4.0.0->qgrid) (2.21)\n"
     ]
    }
   ],
   "source": [
    "!pip install python-evtx Evtx ipyaggrid IPython ipywidgets keras matplotlib nbformat numpy pandas pyparsing qgrid ruamel.yaml sklearn tensorflow tqdm traitlets xmltodict ds4n6-lib"
   ]
  },
  {
   "cell_type": "code",
   "execution_count": 4,
   "id": "7d8daf95",
   "metadata": {},
   "outputs": [
    {
     "name": "stdout",
     "output_type": "stream",
     "text": [
      "Defaulting to user installation because normal site-packages is not writeable\n",
      "Requirement already satisfied: untangle in /home/dfir/.local/lib/python3.10/site-packages (1.2.1)\n",
      "Requirement already satisfied: defusedxml<0.8.0,>=0.7.1 in /usr/local/lib/python3.10/dist-packages (from untangle) (0.7.1)\n"
     ]
    }
   ],
   "source": [
    "!pip install untangle"
   ]
  },
  {
   "cell_type": "code",
   "execution_count": 5,
   "id": "15159cb8",
   "metadata": {},
   "outputs": [
    {
     "name": "stdout",
     "output_type": "stream",
     "text": [
      "Defaulting to user installation because normal site-packages is not writeable\n",
      "Requirement already satisfied: dill in /home/dfir/.local/lib/python3.10/site-packages (0.3.8)\n"
     ]
    }
   ],
   "source": [
    "!pip install dill"
   ]
  },
  {
   "cell_type": "code",
   "execution_count": 6,
   "id": "b1d0c861",
   "metadata": {},
   "outputs": [
    {
     "name": "stdout",
     "output_type": "stream",
     "text": [
      "Defaulting to user installation because normal site-packages is not writeable\n",
      "Requirement already satisfied: gdown in /home/dfir/.local/lib/python3.10/site-packages (5.2.0)\n",
      "Requirement already satisfied: beautifulsoup4 in /usr/local/lib/python3.10/dist-packages (from gdown) (4.12.3)\n",
      "Requirement already satisfied: filelock in /home/dfir/.local/lib/python3.10/site-packages (from gdown) (3.15.3)\n",
      "Requirement already satisfied: requests[socks] in /home/dfir/.local/lib/python3.10/site-packages (from gdown) (2.31.0)\n",
      "Requirement already satisfied: tqdm in /home/dfir/.local/lib/python3.10/site-packages (from gdown) (4.64.0)\n",
      "Requirement already satisfied: soupsieve>1.2 in /usr/local/lib/python3.10/dist-packages (from beautifulsoup4->gdown) (2.5)\n",
      "Requirement already satisfied: charset-normalizer<4,>=2 in /home/dfir/.local/lib/python3.10/site-packages (from requests[socks]->gdown) (2.1.1)\n",
      "Requirement already satisfied: idna<4,>=2.5 in /home/dfir/.local/lib/python3.10/site-packages (from requests[socks]->gdown) (3.3)\n",
      "Requirement already satisfied: urllib3<3,>=1.21.1 in /home/dfir/.local/lib/python3.10/site-packages (from requests[socks]->gdown) (1.26.11)\n",
      "Requirement already satisfied: certifi>=2017.4.17 in /home/dfir/.local/lib/python3.10/site-packages (from requests[socks]->gdown) (2022.6.15)\n",
      "Requirement already satisfied: PySocks!=1.5.7,>=1.5.6 in /home/dfir/.local/lib/python3.10/site-packages (from requests[socks]->gdown) (1.7.1)\n"
     ]
    }
   ],
   "source": [
    "!pip install gdown"
   ]
  },
  {
   "cell_type": "code",
   "execution_count": 7,
   "id": "ab6c87a4",
   "metadata": {},
   "outputs": [
    {
     "name": "stdout",
     "output_type": "stream",
     "text": [
      "Defaulting to user installation because normal site-packages is not writeable\n",
      "Requirement already satisfied: seaborn in /home/dfir/.local/lib/python3.10/site-packages (0.13.2)\n",
      "Requirement already satisfied: numpy!=1.24.0,>=1.20 in /home/dfir/.local/lib/python3.10/site-packages (from seaborn) (1.24.4)\n",
      "Requirement already satisfied: pandas>=1.2 in /home/dfir/.local/lib/python3.10/site-packages (from seaborn) (1.4.3)\n",
      "Requirement already satisfied: matplotlib!=3.6.1,>=3.4 in /home/dfir/.local/lib/python3.10/site-packages (from seaborn) (3.5.2)\n",
      "Requirement already satisfied: cycler>=0.10 in /home/dfir/.local/lib/python3.10/site-packages (from matplotlib!=3.6.1,>=3.4->seaborn) (0.11.0)\n",
      "Requirement already satisfied: fonttools>=4.22.0 in /home/dfir/.local/lib/python3.10/site-packages (from matplotlib!=3.6.1,>=3.4->seaborn) (4.53.0)\n",
      "Requirement already satisfied: kiwisolver>=1.0.1 in /home/dfir/.local/lib/python3.10/site-packages (from matplotlib!=3.6.1,>=3.4->seaborn) (1.4.4)\n",
      "Requirement already satisfied: packaging>=20.0 in /home/dfir/.local/lib/python3.10/site-packages (from matplotlib!=3.6.1,>=3.4->seaborn) (22.0)\n",
      "Requirement already satisfied: pillow>=6.2.0 in /home/dfir/.local/lib/python3.10/site-packages (from matplotlib!=3.6.1,>=3.4->seaborn) (9.1.1)\n",
      "Requirement already satisfied: pyparsing>=2.2.1 in /home/dfir/.local/lib/python3.10/site-packages (from matplotlib!=3.6.1,>=3.4->seaborn) (2.4.7)\n",
      "Requirement already satisfied: python-dateutil>=2.7 in /home/dfir/.local/lib/python3.10/site-packages (from matplotlib!=3.6.1,>=3.4->seaborn) (2.8.2)\n",
      "Requirement already satisfied: pytz>=2020.1 in /home/dfir/.local/lib/python3.10/site-packages (from pandas>=1.2->seaborn) (2022.1)\n",
      "Requirement already satisfied: six>=1.5 in /home/dfir/.local/lib/python3.10/site-packages (from python-dateutil>=2.7->matplotlib!=3.6.1,>=3.4->seaborn) (1.16.0)\n"
     ]
    }
   ],
   "source": [
    "!pip install seaborn"
   ]
  },
  {
   "cell_type": "code",
   "execution_count": 8,
   "id": "a1bd03ad",
   "metadata": {},
   "outputs": [
    {
     "name": "stdout",
     "output_type": "stream",
     "text": [
      "Defaulting to user installation because normal site-packages is not writeable\n",
      "Requirement already satisfied: untangle in /home/dfir/.local/lib/python3.10/site-packages (1.2.1)\n",
      "Requirement already satisfied: dill in /home/dfir/.local/lib/python3.10/site-packages (0.3.8)\n",
      "Requirement already satisfied: gdown in /home/dfir/.local/lib/python3.10/site-packages (5.2.0)\n",
      "Requirement already satisfied: seaborn in /home/dfir/.local/lib/python3.10/site-packages (0.13.2)\n",
      "Requirement already satisfied: pandas_bokeh in /home/dfir/.local/lib/python3.10/site-packages (0.5.5)\n",
      "Requirement already satisfied: defusedxml<0.8.0,>=0.7.1 in /usr/local/lib/python3.10/dist-packages (from untangle) (0.7.1)\n",
      "Requirement already satisfied: beautifulsoup4 in /usr/local/lib/python3.10/dist-packages (from gdown) (4.12.3)\n",
      "Requirement already satisfied: filelock in /home/dfir/.local/lib/python3.10/site-packages (from gdown) (3.15.3)\n",
      "Requirement already satisfied: requests[socks] in /home/dfir/.local/lib/python3.10/site-packages (from gdown) (2.31.0)\n",
      "Requirement already satisfied: tqdm in /home/dfir/.local/lib/python3.10/site-packages (from gdown) (4.64.0)\n",
      "Requirement already satisfied: numpy!=1.24.0,>=1.20 in /home/dfir/.local/lib/python3.10/site-packages (from seaborn) (1.24.4)\n",
      "Requirement already satisfied: pandas>=1.2 in /home/dfir/.local/lib/python3.10/site-packages (from seaborn) (1.4.3)\n",
      "Requirement already satisfied: matplotlib!=3.6.1,>=3.4 in /home/dfir/.local/lib/python3.10/site-packages (from seaborn) (3.5.2)\n",
      "Requirement already satisfied: bokeh>=2.0 in /home/dfir/.local/lib/python3.10/site-packages (from pandas_bokeh) (3.4.1)\n",
      "Requirement already satisfied: Jinja2>=2.9 in /home/dfir/.local/lib/python3.10/site-packages (from bokeh>=2.0->pandas_bokeh) (3.1.2)\n",
      "Requirement already satisfied: contourpy>=1.2 in /home/dfir/.local/lib/python3.10/site-packages (from bokeh>=2.0->pandas_bokeh) (1.2.1)\n",
      "Requirement already satisfied: packaging>=16.8 in /home/dfir/.local/lib/python3.10/site-packages (from bokeh>=2.0->pandas_bokeh) (22.0)\n",
      "Requirement already satisfied: pillow>=7.1.0 in /home/dfir/.local/lib/python3.10/site-packages (from bokeh>=2.0->pandas_bokeh) (9.1.1)\n",
      "Requirement already satisfied: PyYAML>=3.10 in /home/dfir/.local/lib/python3.10/site-packages (from bokeh>=2.0->pandas_bokeh) (6.0)\n",
      "Requirement already satisfied: tornado>=6.2 in /home/dfir/.local/lib/python3.10/site-packages (from bokeh>=2.0->pandas_bokeh) (6.2)\n",
      "Requirement already satisfied: xyzservices>=2021.09.1 in /home/dfir/.local/lib/python3.10/site-packages (from bokeh>=2.0->pandas_bokeh) (2024.6.0)\n",
      "Requirement already satisfied: cycler>=0.10 in /home/dfir/.local/lib/python3.10/site-packages (from matplotlib!=3.6.1,>=3.4->seaborn) (0.11.0)\n",
      "Requirement already satisfied: fonttools>=4.22.0 in /home/dfir/.local/lib/python3.10/site-packages (from matplotlib!=3.6.1,>=3.4->seaborn) (4.53.0)\n",
      "Requirement already satisfied: kiwisolver>=1.0.1 in /home/dfir/.local/lib/python3.10/site-packages (from matplotlib!=3.6.1,>=3.4->seaborn) (1.4.4)\n",
      "Requirement already satisfied: pyparsing>=2.2.1 in /home/dfir/.local/lib/python3.10/site-packages (from matplotlib!=3.6.1,>=3.4->seaborn) (2.4.7)\n",
      "Requirement already satisfied: python-dateutil>=2.7 in /home/dfir/.local/lib/python3.10/site-packages (from matplotlib!=3.6.1,>=3.4->seaborn) (2.8.2)\n",
      "Requirement already satisfied: pytz>=2020.1 in /home/dfir/.local/lib/python3.10/site-packages (from pandas>=1.2->seaborn) (2022.1)\n",
      "Requirement already satisfied: soupsieve>1.2 in /usr/local/lib/python3.10/dist-packages (from beautifulsoup4->gdown) (2.5)\n",
      "Requirement already satisfied: charset-normalizer<4,>=2 in /home/dfir/.local/lib/python3.10/site-packages (from requests[socks]->gdown) (2.1.1)\n",
      "Requirement already satisfied: idna<4,>=2.5 in /home/dfir/.local/lib/python3.10/site-packages (from requests[socks]->gdown) (3.3)\n",
      "Requirement already satisfied: urllib3<3,>=1.21.1 in /home/dfir/.local/lib/python3.10/site-packages (from requests[socks]->gdown) (1.26.11)\n",
      "Requirement already satisfied: certifi>=2017.4.17 in /home/dfir/.local/lib/python3.10/site-packages (from requests[socks]->gdown) (2022.6.15)\n",
      "Requirement already satisfied: PySocks!=1.5.7,>=1.5.6 in /home/dfir/.local/lib/python3.10/site-packages (from requests[socks]->gdown) (1.7.1)\n",
      "Requirement already satisfied: MarkupSafe>=2.0 in /home/dfir/.local/lib/python3.10/site-packages (from Jinja2>=2.9->bokeh>=2.0->pandas_bokeh) (2.1.1)\n",
      "Requirement already satisfied: six>=1.5 in /home/dfir/.local/lib/python3.10/site-packages (from python-dateutil>=2.7->matplotlib!=3.6.1,>=3.4->seaborn) (1.16.0)\n"
     ]
    }
   ],
   "source": [
    "!pip install untangle dill gdown seaborn pandas_bokeh"
   ]
  },
  {
   "cell_type": "code",
   "execution_count": 1,
   "id": "2fd67e2a",
   "metadata": {},
   "outputs": [
    {
     "name": "stderr",
     "output_type": "stream",
     "text": [
      "BokehDeprecationWarning: 'tile_providers module' was deprecated in Bokeh 3.0.0 and will be removed, use 'add_tile directly' instead.\n",
      "2024-06-23 14:37:51.143950: W tensorflow/stream_executor/platform/default/dso_loader.cc:64] Could not load dynamic library 'libcudart.so.11.0'; dlerror: libcudart.so.11.0: cannot open shared object file: No such file or directory\n",
      "2024-06-23 14:37:51.143986: I tensorflow/stream_executor/cuda/cudart_stub.cc:29] Ignore above cudart dlerror if you do not have a GPU set up on your machine.\n"
     ]
    }
   ],
   "source": [
    "# Data Science Imports\n",
    "import numpy as np\n",
    "import pandas as pd\n",
    "import matplotlib.pyplot as plt\n",
    "\n",
    "# GUI Imports\n",
    "import qgrid\n",
    "from IPython.display import display, Markdown\n",
    "\n",
    "# Visualization\n",
    "import seaborn as sns\n",
    "import pandas_bokeh\n",
    "from bokeh.io import output_notebook, show\n",
    "from bokeh.plotting import figure, output_file, show\n",
    "\n",
    "# DFIR Imports\n",
    "from timesketch_api_client import client\n",
    "from timesketch_api_client import config\n",
    "import timesketch_api_client\n",
    "\n",
    "# DS4N6\n",
    "import ds4n6_lib.d4       as d4\n",
    "import ds4n6_lib.common   as d4com\n",
    "import ds4n6_lib.autoruns as d4atrs\n",
    "import ds4n6_lib.fstl     as d4fstl\n",
    "import ds4n6_lib.plaso    as d4pl\n",
    "import ds4n6_lib.kansa    as d4ksa\n",
    "import ds4n6_lib.kape     as d4kp\n",
    "import ds4n6_lib.evtx     as d4evtx\n",
    "import ds4n6_lib.mactime  as d4mctm\n",
    "import ds4n6_lib.unx      as d4unx\n",
    "import ds4n6_lib.utils    as d4utl\n",
    "import ds4n6_lib.gui      as d4gui\n",
    "import ds4n6_lib.ml       as d4ml\n",
    "import ds4n6_lib.tshark   as d4tshrk\n",
    "import ds4n6_lib.flist    as d4flst\n",
    "\n",
    "from ds4n6_lib.common import analysis\n",
    "from ds4n6_lib.common import anl\n",
    "from ds4n6_lib.common import whatis\n",
    "from ds4n6_lib.common import find_anomalies\n",
    "from ds4n6_lib.unx    import xgrep\n",
    "from ds4n6_lib.gui    import xread\n",
    "from ds4n6_lib.gui    import xmenu\n",
    "from ds4n6_lib.gui    import xdisplay\n",
    "from ds4n6_lib.gui    import xanalysis\n",
    "\n",
    "# Standard python imports\n",
    "from time import sleep\n",
    "import datetime\n",
    "import time\n",
    "import re\n",
    "import os.path\n",
    "import nbformat as nbf\n",
    "import calendar\n",
    "import glob\n",
    "import xmltodict\n",
    "import untangle\n",
    "import importlib\n",
    "import logging\n",
    "import subprocess\n",
    "\n",
    "# Data Save/Restore\n",
    "import dill\n",
    "import pickle\n",
    "import warnings\n",
    "\n",
    "warnings.filterwarnings(\"ignore\",category=DeprecationWarning)\n",
    "warnings.filterwarnings(\"ignore\",category=UserWarning)\n",
    "warnings.filterwarnings(\"ignore\")\n",
    "\n",
    "# Define home_path and thisnb\n",
    "home_path = os.path.expanduser(\"~\")\n",
    "thisnb = os.path.join(home_path, \"Downloads\", \"DFIRPlaso.ipynb\")\n",
    "reading_path = '/home/dfir/Downloads'\n",
    "\n",
    "json_file_path = os.path.join(reading_path, 'collection.plaso.json')"
   ]
  },
  {
   "cell_type": "code",
   "execution_count": 5,
   "id": "da4e4d73",
   "metadata": {},
   "outputs": [],
   "source": [
    "plaso_JSON = pd.read_json(reading_path+'/collection.plaso.json')"
   ]
  },
  {
   "cell_type": "code",
   "execution_count": 6,
   "id": "830f9281-4417-46ca-b987-f72d6ad048d7",
   "metadata": {},
   "outputs": [
    {
     "name": "stdout",
     "output_type": "stream",
     "text": [
      "- Searching notebook for saved input file / folder (_plasod)\n",
      "  + Not Found\n",
      "\n"
     ]
    },
    {
     "data": {
      "text/markdown": [
       "Select _plasod file:"
      ],
      "text/plain": [
       "<IPython.core.display.Markdown object>"
      ]
     },
     "metadata": {},
     "output_type": "display_data"
    },
    {
     "data": {
      "application/vnd.jupyter.widget-view+json": {
       "model_id": "6ca8f49acd0247f991e985be4db3b064",
       "version_major": 2,
       "version_minor": 0
      },
      "text/plain": [
       "Accordion(children=(SelectMultiple(options=('init',), rows=10, value=()),), selected_index=None, _titles={'0':…"
      ]
     },
     "metadata": {},
     "output_type": "display_data"
    },
    {
     "data": {
      "application/vnd.jupyter.widget-view+json": {
       "model_id": "91a930313e084015a75811ac6b96b964",
       "version_major": 2,
       "version_minor": 0
      },
      "text/plain": [
       "Button(description='SELECT & READ', style=ButtonStyle())"
      ]
     },
     "metadata": {},
     "output_type": "display_data"
    },
    {
     "data": {
      "application/vnd.jupyter.widget-view+json": {
       "model_id": "3beb2f2bb9ff4251a09d3350a777c1a9",
       "version_major": 2,
       "version_minor": 0
      },
      "text/plain": [
       "Output()"
      ]
     },
     "metadata": {},
     "output_type": "display_data"
    }
   ],
   "source": [
    "xread(tool=\"plaso\", rootpath=os.path.join(home_path, \"Downloads\", \"collection.plaso.json\"), notebook_file=thisnb)"
   ]
  },
  {
   "cell_type": "code",
   "execution_count": 7,
   "id": "973eb002",
   "metadata": {},
   "outputs": [
    {
     "data": {
      "text/markdown": [
       "Select _plasod file:"
      ],
      "text/plain": [
       "<IPython.core.display.Markdown object>"
      ]
     },
     "metadata": {},
     "output_type": "display_data"
    },
    {
     "data": {
      "application/vnd.jupyter.widget-view+json": {
       "model_id": "a33ed235220f42b7b7c4bcc35371a0a3",
       "version_major": 2,
       "version_minor": 0
      },
      "text/plain": [
       "Accordion(children=(SelectMultiple(options=(('[..]', '..'), ('[bin]', 'bin'), ('[boot]', 'boot'), ('[cdrom]', …"
      ]
     },
     "metadata": {},
     "output_type": "display_data"
    },
    {
     "data": {
      "application/vnd.jupyter.widget-view+json": {
       "model_id": "f818aa7c5c8748efbe2d10c5b52ca944",
       "version_major": 2,
       "version_minor": 0
      },
      "text/plain": [
       "Button(description='SELECT & READ', style=ButtonStyle())"
      ]
     },
     "metadata": {},
     "output_type": "display_data"
    },
    {
     "data": {
      "application/vnd.jupyter.widget-view+json": {
       "model_id": "43f4cc18db154c7dbaaee8b7f23bbc4d",
       "version_major": 2,
       "version_minor": 0
      },
      "text/plain": [
       "Output()"
      ]
     },
     "metadata": {},
     "output_type": "display_data"
    }
   ],
   "source": [
    "xread(tool='plaso',rootpath=reading_path+'collection.plaso.json')"
   ]
  },
  {
   "cell_type": "code",
   "execution_count": 8,
   "id": "33cec730-8163-4d12-838a-8decb30243e5",
   "metadata": {},
   "outputs": [
    {
     "name": "stderr",
     "output_type": "stream",
     "text": [
      "IOPub data rate exceeded.\n",
      "The Jupyter server will temporarily stop sending output\n",
      "to the client in order to avoid crashing it.\n",
      "To change this limit, set the config variable\n",
      "`--ServerApp.iopub_data_rate_limit`.\n",
      "\n",
      "Current values:\n",
      "ServerApp.iopub_data_rate_limit=1000000.0 (bytes/sec)\n",
      "ServerApp.rate_limit_window=3.0 (secs)\n",
      "\n"
     ]
    }
   ],
   "source": [
    "import json\n",
    "\n",
    "def safe_json_loads(s):\n",
    "    try:\n",
    "        return json.loads(s)\n",
    "    except json.JSONDecodeError as e:\n",
    "        print(f\"JSONDecodeError: {e}\")\n",
    "        print(f\"String causing error: {s}\")\n",
    "        return None\n",
    "\n",
    "def read_json_file(file_path):\n",
    "    data = []\n",
    "    with open(file_path, 'r') as file:\n",
    "        for line in file:\n",
    "            json_data = safe_json_loads(line.strip())\n",
    "            if json_data:\n",
    "                data.append(json_data)\n",
    "    return data\n",
    "\n",
    "# Check if the file exists and is not empty\n",
    "if not os.path.exists(json_file_path):\n",
    "    print(f\"File does not exist: {json_file_path}\")\n",
    "elif os.path.getsize(json_file_path) == 0:\n",
    "    print(f\"File is empty: {json_file_path}\")\n",
    "else:\n",
    "    # Try reading the JSON file with pandas\n",
    "    try:\n",
    "        plaso_JSON = pd.read_json(json_file_path, lines=True)\n",
    "    except ValueError as e:\n",
    "        print(f\"Error reading JSON file with pandas: {e}\")\n",
    "        print(\"Attempting to read the file line by line...\")\n",
    "\n",
    "        # Fallback to reading the file line by line\n",
    "        json_data = read_json_file(json_file_path)\n",
    "        plaso_JSON = pd.DataFrame(json_data)\n",
    "\n",
    "# Now you can continue processing plaso_JSON as needed\n"
   ]
  },
  {
   "cell_type": "code",
   "execution_count": 9,
   "id": "c7e60aaa",
   "metadata": {},
   "outputs": [
    {
     "data": {
      "text/markdown": [
       "Select _plasod file:"
      ],
      "text/plain": [
       "<IPython.core.display.Markdown object>"
      ]
     },
     "metadata": {},
     "output_type": "display_data"
    },
    {
     "data": {
      "application/vnd.jupyter.widget-view+json": {
       "model_id": "68f75ac2e9f44b9c8ffa8f274202b08b",
       "version_major": 2,
       "version_minor": 0
      },
      "text/plain": [
       "Accordion(children=(SelectMultiple(options=(('[..]', '..'), ('[bin]', 'bin'), ('[boot]', 'boot'), ('[cdrom]', …"
      ]
     },
     "metadata": {},
     "output_type": "display_data"
    },
    {
     "data": {
      "application/vnd.jupyter.widget-view+json": {
       "model_id": "33e923cc0d9641c0ad73b1f8645f88bf",
       "version_major": 2,
       "version_minor": 0
      },
      "text/plain": [
       "Button(description='SELECT & READ', style=ButtonStyle())"
      ]
     },
     "metadata": {},
     "output_type": "display_data"
    },
    {
     "data": {
      "application/vnd.jupyter.widget-view+json": {
       "model_id": "01a08166a5804fe692a1216b3d626960",
       "version_major": 2,
       "version_minor": 0
      },
      "text/plain": [
       "Output()"
      ]
     },
     "metadata": {},
     "output_type": "display_data"
    }
   ],
   "source": [
    "xread(tool='plaso',rootpath=reading_path+'plaso.json')"
   ]
  },
  {
   "cell_type": "code",
   "execution_count": 10,
   "id": "3ca8d582",
   "metadata": {},
   "outputs": [
    {
     "data": {
      "text/plain": [
       "pandas.core.frame.DataFrame"
      ]
     },
     "execution_count": 10,
     "metadata": {},
     "output_type": "execute_result"
    }
   ],
   "source": [
    "type(plaso_JSON)"
   ]
  },
  {
   "cell_type": "code",
   "execution_count": 11,
   "id": "a09caa20-9ce1-4226-a754-c2d7c4370da6",
   "metadata": {},
   "outputs": [
    {
     "data": {
      "text/plain": [
       "Index([], dtype='object')"
      ]
     },
     "execution_count": 11,
     "metadata": {},
     "output_type": "execute_result"
    }
   ],
   "source": [
    "plaso_JSON.columns"
   ]
  },
  {
   "cell_type": "code",
   "execution_count": null,
   "id": "49fac694-a3e7-48b6-932e-97043608ea17",
   "metadata": {},
   "outputs": [],
   "source": []
  },
  {
   "cell_type": "code",
   "execution_count": null,
   "id": "82a9c5e5-a548-4602-b998-ce8914677d50",
   "metadata": {},
   "outputs": [],
   "source": []
  }
 ],
 "metadata": {
  "kernelspec": {
   "display_name": "Python 3 (ipykernel)",
   "language": "python",
   "name": "python3"
  },
  "language_info": {
   "codemirror_mode": {
    "name": "ipython",
    "version": 3
   },
   "file_extension": ".py",
   "mimetype": "text/x-python",
   "name": "python",
   "nbconvert_exporter": "python",
   "pygments_lexer": "ipython3",
   "version": "3.10.12"
  }
 },
 "nbformat": 4,
 "nbformat_minor": 5
}
